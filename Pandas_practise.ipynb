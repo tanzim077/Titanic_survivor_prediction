{
 "cells": [
  {
   "cell_type": "code",
   "execution_count": 1,
   "id": "genetic-discharge",
   "metadata": {},
   "outputs": [],
   "source": [
    "import pandas as pd\n",
    "import numpy as np\n",
    "import matplotlib.pyplot as plt\n",
    "%matplotlib inline\n",
    "import seaborn as sns"
   ]
  },
  {
   "cell_type": "markdown",
   "id": "prepared-cancellation",
   "metadata": {},
   "source": [
    "# Data Cleaning"
   ]
  },
  {
   "cell_type": "code",
   "execution_count": 98,
   "id": "streaming-sailing",
   "metadata": {},
   "outputs": [],
   "source": [
    "# titanic = pd.read_csv(\"./Dataset/titanic _for_pandas.csv\")\n",
    "train = pd.read_csv('Dataset/train.csv')\n",
    "test = pd.read_csv('Dataset/test.csv')"
   ]
  },
  {
   "cell_type": "code",
   "execution_count": 99,
   "id": "respective-student",
   "metadata": {},
   "outputs": [
    {
     "data": {
      "text/plain": [
       "(891, 12)"
      ]
     },
     "execution_count": 99,
     "metadata": {},
     "output_type": "execute_result"
    }
   ],
   "source": [
    "# titanic.shape\n",
    "train.shape"
   ]
  },
  {
   "cell_type": "code",
   "execution_count": 100,
   "id": "latter-shadow",
   "metadata": {},
   "outputs": [
    {
     "data": {
      "text/plain": [
       "PassengerId      0\n",
       "Survived         0\n",
       "Pclass           0\n",
       "Name             0\n",
       "Sex              0\n",
       "Age            177\n",
       "SibSp            0\n",
       "Parch            0\n",
       "Ticket           0\n",
       "Fare             0\n",
       "Cabin          687\n",
       "Embarked         2\n",
       "dtype: int64"
      ]
     },
     "execution_count": 100,
     "metadata": {},
     "output_type": "execute_result"
    }
   ],
   "source": [
    "# titanic.isnull().sum()\n",
    "train.isnull().sum()"
   ]
  },
  {
   "cell_type": "code",
   "execution_count": 101,
   "id": "outdoor-washer",
   "metadata": {},
   "outputs": [
    {
     "data": {
      "text/html": [
       "<div>\n",
       "<style scoped>\n",
       "    .dataframe tbody tr th:only-of-type {\n",
       "        vertical-align: middle;\n",
       "    }\n",
       "\n",
       "    .dataframe tbody tr th {\n",
       "        vertical-align: top;\n",
       "    }\n",
       "\n",
       "    .dataframe thead tr th {\n",
       "        text-align: left;\n",
       "    }\n",
       "\n",
       "    .dataframe thead tr:last-of-type th {\n",
       "        text-align: right;\n",
       "    }\n",
       "</style>\n",
       "<table border=\"1\" class=\"dataframe\">\n",
       "  <thead>\n",
       "    <tr>\n",
       "      <th></th>\n",
       "      <th></th>\n",
       "      <th colspan=\"8\" halign=\"left\">PassengerId</th>\n",
       "      <th colspan=\"2\" halign=\"left\">Survived</th>\n",
       "      <th>...</th>\n",
       "      <th colspan=\"2\" halign=\"left\">Parch</th>\n",
       "      <th colspan=\"8\" halign=\"left\">Fare</th>\n",
       "    </tr>\n",
       "    <tr>\n",
       "      <th></th>\n",
       "      <th></th>\n",
       "      <th>count</th>\n",
       "      <th>mean</th>\n",
       "      <th>std</th>\n",
       "      <th>min</th>\n",
       "      <th>25%</th>\n",
       "      <th>50%</th>\n",
       "      <th>75%</th>\n",
       "      <th>max</th>\n",
       "      <th>count</th>\n",
       "      <th>mean</th>\n",
       "      <th>...</th>\n",
       "      <th>75%</th>\n",
       "      <th>max</th>\n",
       "      <th>count</th>\n",
       "      <th>mean</th>\n",
       "      <th>std</th>\n",
       "      <th>min</th>\n",
       "      <th>25%</th>\n",
       "      <th>50%</th>\n",
       "      <th>75%</th>\n",
       "      <th>max</th>\n",
       "    </tr>\n",
       "    <tr>\n",
       "      <th>Sex</th>\n",
       "      <th>Age</th>\n",
       "      <th></th>\n",
       "      <th></th>\n",
       "      <th></th>\n",
       "      <th></th>\n",
       "      <th></th>\n",
       "      <th></th>\n",
       "      <th></th>\n",
       "      <th></th>\n",
       "      <th></th>\n",
       "      <th></th>\n",
       "      <th></th>\n",
       "      <th></th>\n",
       "      <th></th>\n",
       "      <th></th>\n",
       "      <th></th>\n",
       "      <th></th>\n",
       "      <th></th>\n",
       "      <th></th>\n",
       "      <th></th>\n",
       "      <th></th>\n",
       "      <th></th>\n",
       "    </tr>\n",
       "  </thead>\n",
       "  <tbody>\n",
       "    <tr>\n",
       "      <th rowspan=\"5\" valign=\"top\">female</th>\n",
       "      <th>0.75</th>\n",
       "      <td>2.0</td>\n",
       "      <td>557.500000</td>\n",
       "      <td>123.743687</td>\n",
       "      <td>470.0</td>\n",
       "      <td>513.75</td>\n",
       "      <td>557.5</td>\n",
       "      <td>601.25</td>\n",
       "      <td>645.0</td>\n",
       "      <td>2.0</td>\n",
       "      <td>1.000000</td>\n",
       "      <td>...</td>\n",
       "      <td>1.00</td>\n",
       "      <td>1.0</td>\n",
       "      <td>2.0</td>\n",
       "      <td>19.258300</td>\n",
       "      <td>0.000000</td>\n",
       "      <td>19.2583</td>\n",
       "      <td>19.258300</td>\n",
       "      <td>19.2583</td>\n",
       "      <td>19.25830</td>\n",
       "      <td>19.2583</td>\n",
       "    </tr>\n",
       "    <tr>\n",
       "      <th>1.00</th>\n",
       "      <td>2.0</td>\n",
       "      <td>277.500000</td>\n",
       "      <td>147.785317</td>\n",
       "      <td>173.0</td>\n",
       "      <td>225.25</td>\n",
       "      <td>277.5</td>\n",
       "      <td>329.75</td>\n",
       "      <td>382.0</td>\n",
       "      <td>2.0</td>\n",
       "      <td>1.000000</td>\n",
       "      <td>...</td>\n",
       "      <td>1.75</td>\n",
       "      <td>2.0</td>\n",
       "      <td>2.0</td>\n",
       "      <td>13.437500</td>\n",
       "      <td>3.258631</td>\n",
       "      <td>11.1333</td>\n",
       "      <td>12.285400</td>\n",
       "      <td>13.4375</td>\n",
       "      <td>14.58960</td>\n",
       "      <td>15.7417</td>\n",
       "    </tr>\n",
       "    <tr>\n",
       "      <th>2.00</th>\n",
       "      <td>6.0</td>\n",
       "      <td>379.666667</td>\n",
       "      <td>203.258128</td>\n",
       "      <td>120.0</td>\n",
       "      <td>229.00</td>\n",
       "      <td>389.0</td>\n",
       "      <td>518.25</td>\n",
       "      <td>643.0</td>\n",
       "      <td>6.0</td>\n",
       "      <td>0.333333</td>\n",
       "      <td>...</td>\n",
       "      <td>2.00</td>\n",
       "      <td>2.0</td>\n",
       "      <td>6.0</td>\n",
       "      <td>43.245833</td>\n",
       "      <td>53.738575</td>\n",
       "      <td>10.4625</td>\n",
       "      <td>15.715625</td>\n",
       "      <td>26.9500</td>\n",
       "      <td>30.43125</td>\n",
       "      <td>151.5500</td>\n",
       "    </tr>\n",
       "    <tr>\n",
       "      <th>3.00</th>\n",
       "      <td>2.0</td>\n",
       "      <td>209.500000</td>\n",
       "      <td>234.052345</td>\n",
       "      <td>44.0</td>\n",
       "      <td>126.75</td>\n",
       "      <td>209.5</td>\n",
       "      <td>292.25</td>\n",
       "      <td>375.0</td>\n",
       "      <td>2.0</td>\n",
       "      <td>0.500000</td>\n",
       "      <td>...</td>\n",
       "      <td>1.75</td>\n",
       "      <td>2.0</td>\n",
       "      <td>2.0</td>\n",
       "      <td>31.327100</td>\n",
       "      <td>14.498659</td>\n",
       "      <td>21.0750</td>\n",
       "      <td>26.201050</td>\n",
       "      <td>31.3271</td>\n",
       "      <td>36.45315</td>\n",
       "      <td>41.5792</td>\n",
       "    </tr>\n",
       "    <tr>\n",
       "      <th>4.00</th>\n",
       "      <td>5.0</td>\n",
       "      <td>451.600000</td>\n",
       "      <td>331.910831</td>\n",
       "      <td>11.0</td>\n",
       "      <td>185.00</td>\n",
       "      <td>619.0</td>\n",
       "      <td>692.00</td>\n",
       "      <td>751.0</td>\n",
       "      <td>5.0</td>\n",
       "      <td>1.000000</td>\n",
       "      <td>...</td>\n",
       "      <td>1.00</td>\n",
       "      <td>2.0</td>\n",
       "      <td>5.0</td>\n",
       "      <td>22.828340</td>\n",
       "      <td>9.853082</td>\n",
       "      <td>13.4167</td>\n",
       "      <td>16.700000</td>\n",
       "      <td>22.0250</td>\n",
       "      <td>23.00000</td>\n",
       "      <td>39.0000</td>\n",
       "    </tr>\n",
       "    <tr>\n",
       "      <th>...</th>\n",
       "      <th>...</th>\n",
       "      <td>...</td>\n",
       "      <td>...</td>\n",
       "      <td>...</td>\n",
       "      <td>...</td>\n",
       "      <td>...</td>\n",
       "      <td>...</td>\n",
       "      <td>...</td>\n",
       "      <td>...</td>\n",
       "      <td>...</td>\n",
       "      <td>...</td>\n",
       "      <td>...</td>\n",
       "      <td>...</td>\n",
       "      <td>...</td>\n",
       "      <td>...</td>\n",
       "      <td>...</td>\n",
       "      <td>...</td>\n",
       "      <td>...</td>\n",
       "      <td>...</td>\n",
       "      <td>...</td>\n",
       "      <td>...</td>\n",
       "      <td>...</td>\n",
       "    </tr>\n",
       "    <tr>\n",
       "      <th rowspan=\"5\" valign=\"top\">male</th>\n",
       "      <th>70.00</th>\n",
       "      <td>2.0</td>\n",
       "      <td>709.500000</td>\n",
       "      <td>51.618795</td>\n",
       "      <td>673.0</td>\n",
       "      <td>691.25</td>\n",
       "      <td>709.5</td>\n",
       "      <td>727.75</td>\n",
       "      <td>746.0</td>\n",
       "      <td>2.0</td>\n",
       "      <td>0.000000</td>\n",
       "      <td>...</td>\n",
       "      <td>0.75</td>\n",
       "      <td>1.0</td>\n",
       "      <td>2.0</td>\n",
       "      <td>40.750000</td>\n",
       "      <td>42.779960</td>\n",
       "      <td>10.5000</td>\n",
       "      <td>25.625000</td>\n",
       "      <td>40.7500</td>\n",
       "      <td>55.87500</td>\n",
       "      <td>71.0000</td>\n",
       "    </tr>\n",
       "    <tr>\n",
       "      <th>70.50</th>\n",
       "      <td>1.0</td>\n",
       "      <td>117.000000</td>\n",
       "      <td>NaN</td>\n",
       "      <td>117.0</td>\n",
       "      <td>117.00</td>\n",
       "      <td>117.0</td>\n",
       "      <td>117.00</td>\n",
       "      <td>117.0</td>\n",
       "      <td>1.0</td>\n",
       "      <td>0.000000</td>\n",
       "      <td>...</td>\n",
       "      <td>0.00</td>\n",
       "      <td>0.0</td>\n",
       "      <td>1.0</td>\n",
       "      <td>7.750000</td>\n",
       "      <td>NaN</td>\n",
       "      <td>7.7500</td>\n",
       "      <td>7.750000</td>\n",
       "      <td>7.7500</td>\n",
       "      <td>7.75000</td>\n",
       "      <td>7.7500</td>\n",
       "    </tr>\n",
       "    <tr>\n",
       "      <th>71.00</th>\n",
       "      <td>2.0</td>\n",
       "      <td>295.500000</td>\n",
       "      <td>280.721392</td>\n",
       "      <td>97.0</td>\n",
       "      <td>196.25</td>\n",
       "      <td>295.5</td>\n",
       "      <td>394.75</td>\n",
       "      <td>494.0</td>\n",
       "      <td>2.0</td>\n",
       "      <td>0.000000</td>\n",
       "      <td>...</td>\n",
       "      <td>0.00</td>\n",
       "      <td>0.0</td>\n",
       "      <td>2.0</td>\n",
       "      <td>42.079200</td>\n",
       "      <td>10.500536</td>\n",
       "      <td>34.6542</td>\n",
       "      <td>38.366700</td>\n",
       "      <td>42.0792</td>\n",
       "      <td>45.79170</td>\n",
       "      <td>49.5042</td>\n",
       "    </tr>\n",
       "    <tr>\n",
       "      <th>74.00</th>\n",
       "      <td>1.0</td>\n",
       "      <td>852.000000</td>\n",
       "      <td>NaN</td>\n",
       "      <td>852.0</td>\n",
       "      <td>852.00</td>\n",
       "      <td>852.0</td>\n",
       "      <td>852.00</td>\n",
       "      <td>852.0</td>\n",
       "      <td>1.0</td>\n",
       "      <td>0.000000</td>\n",
       "      <td>...</td>\n",
       "      <td>0.00</td>\n",
       "      <td>0.0</td>\n",
       "      <td>1.0</td>\n",
       "      <td>7.775000</td>\n",
       "      <td>NaN</td>\n",
       "      <td>7.7750</td>\n",
       "      <td>7.775000</td>\n",
       "      <td>7.7750</td>\n",
       "      <td>7.77500</td>\n",
       "      <td>7.7750</td>\n",
       "    </tr>\n",
       "    <tr>\n",
       "      <th>80.00</th>\n",
       "      <td>1.0</td>\n",
       "      <td>631.000000</td>\n",
       "      <td>NaN</td>\n",
       "      <td>631.0</td>\n",
       "      <td>631.00</td>\n",
       "      <td>631.0</td>\n",
       "      <td>631.00</td>\n",
       "      <td>631.0</td>\n",
       "      <td>1.0</td>\n",
       "      <td>1.000000</td>\n",
       "      <td>...</td>\n",
       "      <td>0.00</td>\n",
       "      <td>0.0</td>\n",
       "      <td>1.0</td>\n",
       "      <td>30.000000</td>\n",
       "      <td>NaN</td>\n",
       "      <td>30.0000</td>\n",
       "      <td>30.000000</td>\n",
       "      <td>30.0000</td>\n",
       "      <td>30.00000</td>\n",
       "      <td>30.0000</td>\n",
       "    </tr>\n",
       "  </tbody>\n",
       "</table>\n",
       "<p>145 rows × 48 columns</p>\n",
       "</div>"
      ],
      "text/plain": [
       "             PassengerId                                                \\\n",
       "                   count        mean         std    min     25%    50%   \n",
       "Sex    Age                                                               \n",
       "female 0.75          2.0  557.500000  123.743687  470.0  513.75  557.5   \n",
       "       1.00          2.0  277.500000  147.785317  173.0  225.25  277.5   \n",
       "       2.00          6.0  379.666667  203.258128  120.0  229.00  389.0   \n",
       "       3.00          2.0  209.500000  234.052345   44.0  126.75  209.5   \n",
       "       4.00          5.0  451.600000  331.910831   11.0  185.00  619.0   \n",
       "...                  ...         ...         ...    ...     ...    ...   \n",
       "male   70.00         2.0  709.500000   51.618795  673.0  691.25  709.5   \n",
       "       70.50         1.0  117.000000         NaN  117.0  117.00  117.0   \n",
       "       71.00         2.0  295.500000  280.721392   97.0  196.25  295.5   \n",
       "       74.00         1.0  852.000000         NaN  852.0  852.00  852.0   \n",
       "       80.00         1.0  631.000000         NaN  631.0  631.00  631.0   \n",
       "\n",
       "                            Survived            ... Parch       Fare  \\\n",
       "                 75%    max    count      mean  ...   75%  max count   \n",
       "Sex    Age                                      ...                    \n",
       "female 0.75   601.25  645.0      2.0  1.000000  ...  1.00  1.0   2.0   \n",
       "       1.00   329.75  382.0      2.0  1.000000  ...  1.75  2.0   2.0   \n",
       "       2.00   518.25  643.0      6.0  0.333333  ...  2.00  2.0   6.0   \n",
       "       3.00   292.25  375.0      2.0  0.500000  ...  1.75  2.0   2.0   \n",
       "       4.00   692.00  751.0      5.0  1.000000  ...  1.00  2.0   5.0   \n",
       "...              ...    ...      ...       ...  ...   ...  ...   ...   \n",
       "male   70.00  727.75  746.0      2.0  0.000000  ...  0.75  1.0   2.0   \n",
       "       70.50  117.00  117.0      1.0  0.000000  ...  0.00  0.0   1.0   \n",
       "       71.00  394.75  494.0      2.0  0.000000  ...  0.00  0.0   2.0   \n",
       "       74.00  852.00  852.0      1.0  0.000000  ...  0.00  0.0   1.0   \n",
       "       80.00  631.00  631.0      1.0  1.000000  ...  0.00  0.0   1.0   \n",
       "\n",
       "                                                                           \\\n",
       "                   mean        std      min        25%      50%       75%   \n",
       "Sex    Age                                                                  \n",
       "female 0.75   19.258300   0.000000  19.2583  19.258300  19.2583  19.25830   \n",
       "       1.00   13.437500   3.258631  11.1333  12.285400  13.4375  14.58960   \n",
       "       2.00   43.245833  53.738575  10.4625  15.715625  26.9500  30.43125   \n",
       "       3.00   31.327100  14.498659  21.0750  26.201050  31.3271  36.45315   \n",
       "       4.00   22.828340   9.853082  13.4167  16.700000  22.0250  23.00000   \n",
       "...                 ...        ...      ...        ...      ...       ...   \n",
       "male   70.00  40.750000  42.779960  10.5000  25.625000  40.7500  55.87500   \n",
       "       70.50   7.750000        NaN   7.7500   7.750000   7.7500   7.75000   \n",
       "       71.00  42.079200  10.500536  34.6542  38.366700  42.0792  45.79170   \n",
       "       74.00   7.775000        NaN   7.7750   7.775000   7.7750   7.77500   \n",
       "       80.00  30.000000        NaN  30.0000  30.000000  30.0000  30.00000   \n",
       "\n",
       "                        \n",
       "                   max  \n",
       "Sex    Age              \n",
       "female 0.75    19.2583  \n",
       "       1.00    15.7417  \n",
       "       2.00   151.5500  \n",
       "       3.00    41.5792  \n",
       "       4.00    39.0000  \n",
       "...                ...  \n",
       "male   70.00   71.0000  \n",
       "       70.50    7.7500  \n",
       "       71.00   49.5042  \n",
       "       74.00    7.7750  \n",
       "       80.00   30.0000  \n",
       "\n",
       "[145 rows x 48 columns]"
      ]
     },
     "execution_count": 101,
     "metadata": {},
     "output_type": "execute_result"
    }
   ],
   "source": [
    "# titanic.groupby([\"Sex\",\"Age\"]).describe()\n",
    "train.groupby([\"Sex\",\"Age\"]).describe()"
   ]
  },
  {
   "cell_type": "markdown",
   "id": "former-novelty",
   "metadata": {},
   "source": [
    "## Select data using condition"
   ]
  },
  {
   "cell_type": "code",
   "execution_count": 102,
   "id": "august-version",
   "metadata": {
    "scrolled": true
   },
   "outputs": [
    {
     "data": {
      "text/html": [
       "<div>\n",
       "<style scoped>\n",
       "    .dataframe tbody tr th:only-of-type {\n",
       "        vertical-align: middle;\n",
       "    }\n",
       "\n",
       "    .dataframe tbody tr th {\n",
       "        vertical-align: top;\n",
       "    }\n",
       "\n",
       "    .dataframe thead th {\n",
       "        text-align: right;\n",
       "    }\n",
       "</style>\n",
       "<table border=\"1\" class=\"dataframe\">\n",
       "  <thead>\n",
       "    <tr style=\"text-align: right;\">\n",
       "      <th></th>\n",
       "      <th>PassengerId</th>\n",
       "      <th>Survived</th>\n",
       "      <th>Pclass</th>\n",
       "      <th>Name</th>\n",
       "      <th>Sex</th>\n",
       "      <th>Age</th>\n",
       "      <th>SibSp</th>\n",
       "      <th>Parch</th>\n",
       "      <th>Ticket</th>\n",
       "      <th>Fare</th>\n",
       "      <th>Cabin</th>\n",
       "      <th>Embarked</th>\n",
       "    </tr>\n",
       "  </thead>\n",
       "  <tbody>\n",
       "    <tr>\n",
       "      <th>679</th>\n",
       "      <td>680</td>\n",
       "      <td>1</td>\n",
       "      <td>1</td>\n",
       "      <td>Cardeza, Mr. Thomas Drake Martinez</td>\n",
       "      <td>male</td>\n",
       "      <td>36.0</td>\n",
       "      <td>0</td>\n",
       "      <td>1</td>\n",
       "      <td>PC 17755</td>\n",
       "      <td>512.3292</td>\n",
       "      <td>B51 B53 B55</td>\n",
       "      <td>C</td>\n",
       "    </tr>\n",
       "    <tr>\n",
       "      <th>737</th>\n",
       "      <td>738</td>\n",
       "      <td>1</td>\n",
       "      <td>1</td>\n",
       "      <td>Lesurer, Mr. Gustave J</td>\n",
       "      <td>male</td>\n",
       "      <td>35.0</td>\n",
       "      <td>0</td>\n",
       "      <td>0</td>\n",
       "      <td>PC 17755</td>\n",
       "      <td>512.3292</td>\n",
       "      <td>B101</td>\n",
       "      <td>C</td>\n",
       "    </tr>\n",
       "  </tbody>\n",
       "</table>\n",
       "</div>"
      ],
      "text/plain": [
       "     PassengerId  Survived  Pclass                                Name   Sex  \\\n",
       "679          680         1       1  Cardeza, Mr. Thomas Drake Martinez  male   \n",
       "737          738         1       1              Lesurer, Mr. Gustave J  male   \n",
       "\n",
       "      Age  SibSp  Parch    Ticket      Fare        Cabin Embarked  \n",
       "679  36.0      0      1  PC 17755  512.3292  B51 B53 B55        C  \n",
       "737  35.0      0      0  PC 17755  512.3292         B101        C  "
      ]
     },
     "execution_count": 102,
     "metadata": {},
     "output_type": "execute_result"
    }
   ],
   "source": [
    "# titanic[(titanic[\"Fare\"] > 400) & (titanic[\"Sex\"] == \"male\")]\n",
    "train[(train[\"Fare\"] > 400) & (train[\"Sex\"] == \"male\")]"
   ]
  },
  {
   "cell_type": "markdown",
   "id": "floral-latvia",
   "metadata": {},
   "source": [
    "## Counting the values"
   ]
  },
  {
   "cell_type": "code",
   "execution_count": 8,
   "id": "colored-cocktail",
   "metadata": {
    "scrolled": true
   },
   "outputs": [
    {
     "data": {
      "text/plain": [
       "2"
      ]
     },
     "execution_count": 8,
     "metadata": {},
     "output_type": "execute_result"
    }
   ],
   "source": [
    "# titanic[(titanic[\"Fare\"] > 400) & (titanic[\"Sex\"] == \"male\")].value_counts().sum()\n",
    "train[(train[\"Fare\"] > 400) & (train[\"Sex\"] == \"male\")].value_counts().sum()"
   ]
  },
  {
   "cell_type": "markdown",
   "id": "absent-hydrogen",
   "metadata": {},
   "source": [
    "## Check Values in column without duplicate "
   ]
  },
  {
   "cell_type": "code",
   "execution_count": 9,
   "id": "several-tradition",
   "metadata": {},
   "outputs": [
    {
     "data": {
      "text/plain": [
       "male      843\n",
       "female    466\n",
       "Name: Sex, dtype: int64"
      ]
     },
     "execution_count": 9,
     "metadata": {},
     "output_type": "execute_result"
    }
   ],
   "source": [
    "# titanic[\"Sex\"].value_counts()\n",
    "train[\"Sex\"].value_counts()"
   ]
  },
  {
   "cell_type": "code",
   "execution_count": 10,
   "id": "eleven-vector",
   "metadata": {},
   "outputs": [
    {
     "name": "stdout",
     "output_type": "stream",
     "text": [
      "C23 C25 C27        6\n",
      "G6                 5\n",
      "B57 B59 B63 B66    5\n",
      "C78                4\n",
      "F4                 4\n",
      "                  ..\n",
      "D56                1\n",
      "F                  1\n",
      "D38                1\n",
      "C53                1\n",
      "D45                1\n",
      "Name: Cabin, Length: 186, dtype: int64\n",
      "Total values 295\n"
     ]
    }
   ],
   "source": [
    "# uv = titanic[\"Cabin\"].value_counts() # Decribe 186 unique values\n",
    "# tv = titanic[\"Cabin\"].value_counts().sum() \n",
    "\n",
    "uv = train[\"Cabin\"].value_counts() # Decribe 186 unique values\n",
    "tv = train[\"Cabin\"].value_counts().sum() \n",
    "\n",
    "print(uv)\n",
    "print( f\"Total values {tv}\")"
   ]
  },
  {
   "cell_type": "markdown",
   "id": "distinct-service",
   "metadata": {},
   "source": [
    "## Spliting String"
   ]
  },
  {
   "cell_type": "code",
   "execution_count": 11,
   "id": "proud-resident",
   "metadata": {},
   "outputs": [],
   "source": [
    "for dataset in titanic:\n",
    "#     titanic['Title'] = titanic['Name'].str.extract('([A-Za-z]+)\\.', expand=False)\n",
    "    train['Title'] = train['Name'].str.extract('([A-Za-z]+)\\.', expand=False)    "
   ]
  },
  {
   "cell_type": "code",
   "execution_count": 12,
   "id": "conservative-sussex",
   "metadata": {
    "scrolled": true
   },
   "outputs": [
    {
     "data": {
      "text/plain": [
       "Mr          757\n",
       "Miss        260\n",
       "Mrs         197\n",
       "Master       61\n",
       "Rev           8\n",
       "Dr            8\n",
       "Col           4\n",
       "Major         2\n",
       "Mlle          2\n",
       "Ms            2\n",
       "Sir           1\n",
       "Capt          1\n",
       "Lady          1\n",
       "Don           1\n",
       "Dona          1\n",
       "Jonkheer      1\n",
       "Mme           1\n",
       "Countess      1\n",
       "Name: Title, dtype: int64"
      ]
     },
     "execution_count": 12,
     "metadata": {},
     "output_type": "execute_result"
    }
   ],
   "source": [
    "# titanic[\"Title\"].value_counts()\n",
    "train[\"Title\"].value_counts()"
   ]
  },
  {
   "cell_type": "code",
   "execution_count": 13,
   "id": "fluid-grill",
   "metadata": {},
   "outputs": [],
   "source": [
    "# x = titanic[\"Title\"]\n",
    "# for i in range(len(x)):\n",
    "#     print(x.index[i])"
   ]
  },
  {
   "cell_type": "code",
   "execution_count": 14,
   "id": "curious-diving",
   "metadata": {},
   "outputs": [
    {
     "data": {
      "text/plain": [
       "Index(['PassengerId', 'Survived', 'Pclass', 'Name', 'Sex', 'Age', 'SibSp',\n",
       "       'Parch', 'Ticket', 'Fare', 'Cabin', 'Embarked', 'Title'],\n",
       "      dtype='object')"
      ]
     },
     "execution_count": 14,
     "metadata": {},
     "output_type": "execute_result"
    }
   ],
   "source": [
    "# titanic.columns\n",
    "train.columns"
   ]
  },
  {
   "cell_type": "markdown",
   "id": "revolutionary-oakland",
   "metadata": {},
   "source": [
    "## Visual representation"
   ]
  },
  {
   "cell_type": "code",
   "execution_count": 15,
   "id": "blessed-hearts",
   "metadata": {},
   "outputs": [],
   "source": [
    "# titanic[\"FamilyMembers\"] = titanic[\"SibSp\"] + titanic[\"Parch\"]\n",
    "train[\"FamilyMembers\"] = titanic[\"SibSp\"] + titanic[\"Parch\"]"
   ]
  },
  {
   "cell_type": "code",
   "execution_count": 16,
   "id": "annoying-plane",
   "metadata": {},
   "outputs": [
    {
     "data": {
      "text/plain": [
       "0     790\n",
       "1     235\n",
       "2     159\n",
       "3      43\n",
       "5      25\n",
       "4      22\n",
       "6      16\n",
       "10     11\n",
       "7       8\n",
       "Name: FamilyMembers, dtype: int64"
      ]
     },
     "execution_count": 16,
     "metadata": {},
     "output_type": "execute_result"
    }
   ],
   "source": [
    "# titanic[\"FamilyMembers\"].value_counts()\n",
    "train[\"FamilyMembers\"].value_counts()"
   ]
  },
  {
   "cell_type": "code",
   "execution_count": 17,
   "id": "technological-onion",
   "metadata": {},
   "outputs": [],
   "source": [
    "def bar_chart(feature):\n",
    "#     survived = titanic[titanic['Survived']==1][feature].value_counts()\n",
    "#     dead = titanic[titanic['Survived']==0][feature].value_counts()\n",
    "    survived = train[train['Survived']==1][feature].value_counts()\n",
    "    dead = train[train['Survived']==0][feature].value_counts()\n",
    "    df = pd.DataFrame([survived,dead])\n",
    "    df.index = ['Survived','Dead']\n",
    "    df.plot(kind='bar', stacked=True,  figsize=(10,5))\n",
    "    plt.title(feature)"
   ]
  },
  {
   "cell_type": "code",
   "execution_count": 18,
   "id": "competitive-marina",
   "metadata": {},
   "outputs": [
    {
     "data": {
      "image/png": "[encoded data removed]",
      "text/plain": [
       "<Figure size 720x360 with 1 Axes>"
      ]
     },
     "metadata": {
      "needs_background": "light"
     },
     "output_type": "display_data"
    },
    {
     "data": {
      "image/png": "[encoded data removed]",
      "text/plain": [
       "<Figure size 720x360 with 1 Axes>"
      ]
     },
     "metadata": {
      "needs_background": "light"
     },
     "output_type": "display_data"
    }
   ],
   "source": [
    "# bar_chart('Pclass')\n",
    "# bar_chart('Sex')\n",
    "bar_chart('SibSp')\n",
    "bar_chart('Parch')\n",
    "# # bar_chart('Ticket')\n",
    "# # bar_chart('Fare')\n",
    "# # bar_chart('Cabin')\n",
    "# bar_chart('Embarked')\n",
    "# bar_chart('Title')\n",
    "# bar_chart('FamilyMembers')"
   ]
  },
  {
   "cell_type": "markdown",
   "id": "static-fundamental",
   "metadata": {},
   "source": [
    "## Title Mapping"
   ]
  },
  {
   "cell_type": "code",
   "execution_count": 19,
   "id": "announced-uruguay",
   "metadata": {},
   "outputs": [],
   "source": [
    "title_mapping = {\"Mr\": 0, \"Miss\": 1,\"Ms\": 1, \"Lady\": 2, \"Mrs\": 2,\"Mme\": 2, \n",
    "                 \"Master\": 3, \"Dr\": 4, \"Rev\": 4, \"Col\": 4, \"Major\": 4, \"Mlle\": 4,\"Countess\": 4,\n",
    "                \"Jonkheer\": 4, \"Don\": 4, \"Dona\" : 4, \"Capt\": 4,\"Sir\": 4 }\n",
    "# for dataset in titanic[\"Title\"]:\n",
    "#     titanic[\"TitleEncode\"] = titanic['Title'].map(title_mapping)\n",
    "for dataset in train[\"Title\"]:\n",
    "    train[\"TitleEncode\"] = train['Title'].map(title_mapping)\n",
    "#     print(dataset)"
   ]
  },
  {
   "cell_type": "code",
   "execution_count": 20,
   "id": "indie-indian",
   "metadata": {
    "scrolled": true
   },
   "outputs": [
    {
     "data": {
      "text/plain": [
       "0    757\n",
       "1    262\n",
       "2    199\n",
       "3     61\n",
       "4     30\n",
       "Name: TitleEncode, dtype: int64"
      ]
     },
     "execution_count": 20,
     "metadata": {},
     "output_type": "execute_result"
    }
   ],
   "source": [
    "# titanic[\"TitleEncode\"].value_counts()\n",
    "train[\"TitleEncode\"].value_counts()"
   ]
  },
  {
   "cell_type": "code",
   "execution_count": 21,
   "id": "commercial-progress",
   "metadata": {},
   "outputs": [
    {
     "data": {
      "text/plain": [
       "(1309, 15)"
      ]
     },
     "execution_count": 21,
     "metadata": {},
     "output_type": "execute_result"
    }
   ],
   "source": [
    "# titanic.shape\n",
    "train.shape"
   ]
  },
  {
   "cell_type": "code",
   "execution_count": 22,
   "id": "collaborative-oxford",
   "metadata": {},
   "outputs": [],
   "source": [
    "# titanic = titanic.drop([\"Title\", \"Name\"], axis=1)\n",
    "train = train.drop([\"Title\", \"Name\"], axis=1)"
   ]
  },
  {
   "cell_type": "code",
   "execution_count": 23,
   "id": "isolated-portland",
   "metadata": {},
   "outputs": [
    {
     "data": {
      "text/plain": [
       "(1309, 13)"
      ]
     },
     "execution_count": 23,
     "metadata": {},
     "output_type": "execute_result"
    }
   ],
   "source": [
    "# titanic.shape\n",
    "train.shape"
   ]
  },
  {
   "cell_type": "code",
   "execution_count": 24,
   "id": "postal-reverse",
   "metadata": {},
   "outputs": [
    {
     "data": {
      "text/plain": [
       "Index(['PassengerId', 'Survived', 'Pclass', 'Sex', 'Age', 'SibSp', 'Parch',\n",
       "       'Ticket', 'Fare', 'Cabin', 'Embarked', 'FamilyMembers', 'TitleEncode'],\n",
       "      dtype='object')"
      ]
     },
     "execution_count": 24,
     "metadata": {},
     "output_type": "execute_result"
    }
   ],
   "source": [
    "# titanic.columns\n",
    "train.columns"
   ]
  },
  {
   "cell_type": "code",
   "execution_count": 25,
   "id": "absent-dairy",
   "metadata": {},
   "outputs": [],
   "source": [
    "# titanic[\"Title\"] = titanic[\"TitleEncode\"]\n",
    "train[\"Title\"] = train[\"TitleEncode\"]"
   ]
  },
  {
   "cell_type": "code",
   "execution_count": 26,
   "id": "conventional-default",
   "metadata": {},
   "outputs": [
    {
     "data": {
      "text/plain": [
       "0    757\n",
       "1    262\n",
       "2    199\n",
       "3     61\n",
       "4     30\n",
       "Name: Title, dtype: int64"
      ]
     },
     "execution_count": 26,
     "metadata": {},
     "output_type": "execute_result"
    }
   ],
   "source": [
    "# titanic[\"Title\"].value_counts()\n",
    "train[\"Title\"].value_counts()"
   ]
  },
  {
   "cell_type": "code",
   "execution_count": 27,
   "id": "rocky-discrimination",
   "metadata": {},
   "outputs": [
    {
     "data": {
      "text/plain": [
       "PassengerId         0\n",
       "Survived            0\n",
       "Pclass              0\n",
       "Sex                 0\n",
       "Age               263\n",
       "SibSp               0\n",
       "Parch               0\n",
       "Ticket              0\n",
       "Fare                1\n",
       "Cabin            1014\n",
       "Embarked            2\n",
       "FamilyMembers       0\n",
       "TitleEncode         0\n",
       "Title               0\n",
       "dtype: int64"
      ]
     },
     "execution_count": 27,
     "metadata": {},
     "output_type": "execute_result"
    }
   ],
   "source": [
    "# titanic.isnull().sum()\n",
    "train.isnull().sum()"
   ]
  },
  {
   "cell_type": "code",
   "execution_count": 28,
   "id": "macro-citizenship",
   "metadata": {},
   "outputs": [],
   "source": [
    "# titanic = titanic.drop([\"Parch\", \"SibSp\", \"Cabin\",\"TitleEncode\", \"PassengerId\",\"Survived\"], axis=1)"
   ]
  },
  {
   "cell_type": "code",
   "execution_count": 29,
   "id": "green-ministry",
   "metadata": {},
   "outputs": [
    {
     "data": {
      "text/plain": [
       "count    1308.000000\n",
       "mean       33.295479\n",
       "std        51.758668\n",
       "min         0.000000\n",
       "25%         7.895800\n",
       "50%        14.454200\n",
       "75%        31.275000\n",
       "max       512.329200\n",
       "Name: Fare, dtype: float64"
      ]
     },
     "execution_count": 29,
     "metadata": {},
     "output_type": "execute_result"
    }
   ],
   "source": [
    "# titanic[\"Fare\"].describe()\n",
    "train[\"Fare\"].describe()"
   ]
  },
  {
   "cell_type": "code",
   "execution_count": 30,
   "id": "premier-sierra",
   "metadata": {},
   "outputs": [],
   "source": [
    "# titanic[\"Embarked\"].fillna((titanic[\"Embarked\"].mode()), inplace=True )\n",
    "train[\"Embarked\"].fillna((train[\"Embarked\"].mode()), inplace=True )"
   ]
  },
  {
   "cell_type": "code",
   "execution_count": 31,
   "id": "wireless-animation",
   "metadata": {
    "scrolled": true
   },
   "outputs": [
    {
     "data": {
      "text/plain": [
       "0    S\n",
       "dtype: object"
      ]
     },
     "execution_count": 31,
     "metadata": {},
     "output_type": "execute_result"
    }
   ],
   "source": [
    "# titanic[\"Embarked\"].mode()\n",
    "train[\"Embarked\"].mode()"
   ]
  },
  {
   "cell_type": "code",
   "execution_count": 32,
   "id": "black-affairs",
   "metadata": {
    "scrolled": true
   },
   "outputs": [
    {
     "data": {
      "text/plain": [
       "PassengerId         0\n",
       "Survived            0\n",
       "Pclass              0\n",
       "Sex                 0\n",
       "Age               263\n",
       "SibSp               0\n",
       "Parch               0\n",
       "Ticket              0\n",
       "Fare                1\n",
       "Cabin            1014\n",
       "Embarked            2\n",
       "FamilyMembers       0\n",
       "TitleEncode         0\n",
       "Title               0\n",
       "dtype: int64"
      ]
     },
     "execution_count": 32,
     "metadata": {},
     "output_type": "execute_result"
    }
   ],
   "source": [
    "# titanic.isnull().sum()\n",
    "train.isnull().sum()"
   ]
  },
  {
   "cell_type": "code",
   "execution_count": 33,
   "id": "czech-progress",
   "metadata": {},
   "outputs": [
    {
     "data": {
      "text/plain": [
       "S    914\n",
       "C    270\n",
       "Q    123\n",
       "Name: Embarked, dtype: int64"
      ]
     },
     "execution_count": 33,
     "metadata": {},
     "output_type": "execute_result"
    }
   ],
   "source": [
    "# titanic[\"Embarked\"].value_counts()\n",
    "train[\"Embarked\"].value_counts()"
   ]
  },
  {
   "cell_type": "code",
   "execution_count": 34,
   "id": "arctic-right",
   "metadata": {},
   "outputs": [
    {
     "data": {
      "text/plain": [
       "Index(['PassengerId', 'Survived', 'Pclass', 'Sex', 'Age', 'SibSp', 'Parch',\n",
       "       'Ticket', 'Fare', 'Cabin', 'Embarked', 'FamilyMembers', 'TitleEncode',\n",
       "       'Title'],\n",
       "      dtype='object')"
      ]
     },
     "execution_count": 34,
     "metadata": {},
     "output_type": "execute_result"
    }
   ],
   "source": [
    "# titanic.columns\n",
    "train.columns"
   ]
  },
  {
   "cell_type": "code",
   "execution_count": 35,
   "id": "emotional-express",
   "metadata": {},
   "outputs": [],
   "source": [
    "# x = titanic[[\"Age\", \"TitleEncode\", \"Fare\", \"Sex\"]]\n",
    "x = train[[\"Age\", \"TitleEncode\", \"Fare\", \"Sex\"]]"
   ]
  },
  {
   "cell_type": "code",
   "execution_count": 36,
   "id": "dress-occurrence",
   "metadata": {},
   "outputs": [
    {
     "data": {
      "text/html": [
       "<div>\n",
       "<style scoped>\n",
       "    .dataframe tbody tr th:only-of-type {\n",
       "        vertical-align: middle;\n",
       "    }\n",
       "\n",
       "    .dataframe tbody tr th {\n",
       "        vertical-align: top;\n",
       "    }\n",
       "\n",
       "    .dataframe thead th {\n",
       "        text-align: right;\n",
       "    }\n",
       "</style>\n",
       "<table border=\"1\" class=\"dataframe\">\n",
       "  <thead>\n",
       "    <tr style=\"text-align: right;\">\n",
       "      <th></th>\n",
       "      <th>Age</th>\n",
       "      <th>TitleEncode</th>\n",
       "      <th>Fare</th>\n",
       "      <th>Sex</th>\n",
       "    </tr>\n",
       "  </thead>\n",
       "  <tbody>\n",
       "    <tr>\n",
       "      <th>0</th>\n",
       "      <td>22.0</td>\n",
       "      <td>0</td>\n",
       "      <td>7.2500</td>\n",
       "      <td>male</td>\n",
       "    </tr>\n",
       "    <tr>\n",
       "      <th>1</th>\n",
       "      <td>38.0</td>\n",
       "      <td>2</td>\n",
       "      <td>71.2833</td>\n",
       "      <td>female</td>\n",
       "    </tr>\n",
       "    <tr>\n",
       "      <th>2</th>\n",
       "      <td>26.0</td>\n",
       "      <td>1</td>\n",
       "      <td>7.9250</td>\n",
       "      <td>female</td>\n",
       "    </tr>\n",
       "    <tr>\n",
       "      <th>3</th>\n",
       "      <td>35.0</td>\n",
       "      <td>2</td>\n",
       "      <td>53.1000</td>\n",
       "      <td>female</td>\n",
       "    </tr>\n",
       "    <tr>\n",
       "      <th>4</th>\n",
       "      <td>35.0</td>\n",
       "      <td>0</td>\n",
       "      <td>8.0500</td>\n",
       "      <td>male</td>\n",
       "    </tr>\n",
       "    <tr>\n",
       "      <th>...</th>\n",
       "      <td>...</td>\n",
       "      <td>...</td>\n",
       "      <td>...</td>\n",
       "      <td>...</td>\n",
       "    </tr>\n",
       "    <tr>\n",
       "      <th>1304</th>\n",
       "      <td>NaN</td>\n",
       "      <td>0</td>\n",
       "      <td>8.0500</td>\n",
       "      <td>male</td>\n",
       "    </tr>\n",
       "    <tr>\n",
       "      <th>1305</th>\n",
       "      <td>39.0</td>\n",
       "      <td>4</td>\n",
       "      <td>108.9000</td>\n",
       "      <td>female</td>\n",
       "    </tr>\n",
       "    <tr>\n",
       "      <th>1306</th>\n",
       "      <td>38.5</td>\n",
       "      <td>0</td>\n",
       "      <td>7.2500</td>\n",
       "      <td>male</td>\n",
       "    </tr>\n",
       "    <tr>\n",
       "      <th>1307</th>\n",
       "      <td>NaN</td>\n",
       "      <td>0</td>\n",
       "      <td>8.0500</td>\n",
       "      <td>male</td>\n",
       "    </tr>\n",
       "    <tr>\n",
       "      <th>1308</th>\n",
       "      <td>NaN</td>\n",
       "      <td>3</td>\n",
       "      <td>22.3583</td>\n",
       "      <td>male</td>\n",
       "    </tr>\n",
       "  </tbody>\n",
       "</table>\n",
       "<p>1309 rows × 4 columns</p>\n",
       "</div>"
      ],
      "text/plain": [
       "       Age  TitleEncode      Fare     Sex\n",
       "0     22.0            0    7.2500    male\n",
       "1     38.0            2   71.2833  female\n",
       "2     26.0            1    7.9250  female\n",
       "3     35.0            2   53.1000  female\n",
       "4     35.0            0    8.0500    male\n",
       "...    ...          ...       ...     ...\n",
       "1304   NaN            0    8.0500    male\n",
       "1305  39.0            4  108.9000  female\n",
       "1306  38.5            0    7.2500    male\n",
       "1307   NaN            0    8.0500    male\n",
       "1308   NaN            3   22.3583    male\n",
       "\n",
       "[1309 rows x 4 columns]"
      ]
     },
     "execution_count": 36,
     "metadata": {},
     "output_type": "execute_result"
    }
   ],
   "source": [
    "x"
   ]
  },
  {
   "cell_type": "code",
   "execution_count": 37,
   "id": "secure-ranking",
   "metadata": {},
   "outputs": [
    {
     "data": {
      "text/plain": [
       "Age            263\n",
       "TitleEncode      0\n",
       "Fare             1\n",
       "Sex              0\n",
       "dtype: int64"
      ]
     },
     "execution_count": 37,
     "metadata": {},
     "output_type": "execute_result"
    }
   ],
   "source": [
    "x.isnull().sum()"
   ]
  },
  {
   "cell_type": "code",
   "execution_count": 38,
   "id": "nominated-profit",
   "metadata": {},
   "outputs": [
    {
     "data": {
      "text/html": [
       "<div>\n",
       "<style scoped>\n",
       "    .dataframe tbody tr th:only-of-type {\n",
       "        vertical-align: middle;\n",
       "    }\n",
       "\n",
       "    .dataframe tbody tr th {\n",
       "        vertical-align: top;\n",
       "    }\n",
       "\n",
       "    .dataframe thead tr th {\n",
       "        text-align: left;\n",
       "    }\n",
       "\n",
       "    .dataframe thead tr:last-of-type th {\n",
       "        text-align: right;\n",
       "    }\n",
       "</style>\n",
       "<table border=\"1\" class=\"dataframe\">\n",
       "  <thead>\n",
       "    <tr>\n",
       "      <th></th>\n",
       "      <th colspan=\"8\" halign=\"left\">Age</th>\n",
       "      <th colspan=\"8\" halign=\"left\">Fare</th>\n",
       "    </tr>\n",
       "    <tr>\n",
       "      <th></th>\n",
       "      <th>count</th>\n",
       "      <th>mean</th>\n",
       "      <th>std</th>\n",
       "      <th>min</th>\n",
       "      <th>25%</th>\n",
       "      <th>50%</th>\n",
       "      <th>75%</th>\n",
       "      <th>max</th>\n",
       "      <th>count</th>\n",
       "      <th>mean</th>\n",
       "      <th>std</th>\n",
       "      <th>min</th>\n",
       "      <th>25%</th>\n",
       "      <th>50%</th>\n",
       "      <th>75%</th>\n",
       "      <th>max</th>\n",
       "    </tr>\n",
       "    <tr>\n",
       "      <th>TitleEncode</th>\n",
       "      <th></th>\n",
       "      <th></th>\n",
       "      <th></th>\n",
       "      <th></th>\n",
       "      <th></th>\n",
       "      <th></th>\n",
       "      <th></th>\n",
       "      <th></th>\n",
       "      <th></th>\n",
       "      <th></th>\n",
       "      <th></th>\n",
       "      <th></th>\n",
       "      <th></th>\n",
       "      <th></th>\n",
       "      <th></th>\n",
       "      <th></th>\n",
       "    </tr>\n",
       "  </thead>\n",
       "  <tbody>\n",
       "    <tr>\n",
       "      <th>0</th>\n",
       "      <td>581.0</td>\n",
       "      <td>32.252151</td>\n",
       "      <td>12.422089</td>\n",
       "      <td>11.00</td>\n",
       "      <td>23.00</td>\n",
       "      <td>29.0</td>\n",
       "      <td>39.0</td>\n",
       "      <td>80.0</td>\n",
       "      <td>756.0</td>\n",
       "      <td>24.796185</td>\n",
       "      <td>42.237847</td>\n",
       "      <td>0.0000</td>\n",
       "      <td>7.82710</td>\n",
       "      <td>9.59375</td>\n",
       "      <td>26.0000</td>\n",
       "      <td>512.3292</td>\n",
       "    </tr>\n",
       "    <tr>\n",
       "      <th>1</th>\n",
       "      <td>211.0</td>\n",
       "      <td>21.803744</td>\n",
       "      <td>12.227392</td>\n",
       "      <td>0.17</td>\n",
       "      <td>15.00</td>\n",
       "      <td>22.0</td>\n",
       "      <td>30.0</td>\n",
       "      <td>63.0</td>\n",
       "      <td>262.0</td>\n",
       "      <td>42.438233</td>\n",
       "      <td>65.468670</td>\n",
       "      <td>6.7500</td>\n",
       "      <td>7.88335</td>\n",
       "      <td>14.85205</td>\n",
       "      <td>38.4375</td>\n",
       "      <td>512.3292</td>\n",
       "    </tr>\n",
       "    <tr>\n",
       "      <th>2</th>\n",
       "      <td>172.0</td>\n",
       "      <td>36.982558</td>\n",
       "      <td>12.892027</td>\n",
       "      <td>14.00</td>\n",
       "      <td>26.75</td>\n",
       "      <td>35.5</td>\n",
       "      <td>47.0</td>\n",
       "      <td>76.0</td>\n",
       "      <td>199.0</td>\n",
       "      <td>50.599812</td>\n",
       "      <td>60.720140</td>\n",
       "      <td>7.0000</td>\n",
       "      <td>15.87500</td>\n",
       "      <td>26.25000</td>\n",
       "      <td>60.5875</td>\n",
       "      <td>512.3292</td>\n",
       "    </tr>\n",
       "    <tr>\n",
       "      <th>3</th>\n",
       "      <td>53.0</td>\n",
       "      <td>5.482642</td>\n",
       "      <td>4.161554</td>\n",
       "      <td>0.33</td>\n",
       "      <td>2.00</td>\n",
       "      <td>4.0</td>\n",
       "      <td>9.0</td>\n",
       "      <td>14.5</td>\n",
       "      <td>61.0</td>\n",
       "      <td>36.008195</td>\n",
       "      <td>40.677102</td>\n",
       "      <td>3.1708</td>\n",
       "      <td>15.24580</td>\n",
       "      <td>26.00000</td>\n",
       "      <td>36.7500</td>\n",
       "      <td>262.3750</td>\n",
       "    </tr>\n",
       "    <tr>\n",
       "      <th>4</th>\n",
       "      <td>29.0</td>\n",
       "      <td>43.620690</td>\n",
       "      <td>12.172609</td>\n",
       "      <td>23.00</td>\n",
       "      <td>33.00</td>\n",
       "      <td>45.0</td>\n",
       "      <td>53.0</td>\n",
       "      <td>70.0</td>\n",
       "      <td>30.0</td>\n",
       "      <td>47.329723</td>\n",
       "      <td>46.984802</td>\n",
       "      <td>0.0000</td>\n",
       "      <td>16.98230</td>\n",
       "      <td>29.50000</td>\n",
       "      <td>66.2073</td>\n",
       "      <td>227.5250</td>\n",
       "    </tr>\n",
       "  </tbody>\n",
       "</table>\n",
       "</div>"
      ],
      "text/plain": [
       "               Age                                                        \\\n",
       "             count       mean        std    min    25%   50%   75%   max   \n",
       "TitleEncode                                                                \n",
       "0            581.0  32.252151  12.422089  11.00  23.00  29.0  39.0  80.0   \n",
       "1            211.0  21.803744  12.227392   0.17  15.00  22.0  30.0  63.0   \n",
       "2            172.0  36.982558  12.892027  14.00  26.75  35.5  47.0  76.0   \n",
       "3             53.0   5.482642   4.161554   0.33   2.00   4.0   9.0  14.5   \n",
       "4             29.0  43.620690  12.172609  23.00  33.00  45.0  53.0  70.0   \n",
       "\n",
       "              Fare                                                             \\\n",
       "             count       mean        std     min       25%       50%      75%   \n",
       "TitleEncode                                                                     \n",
       "0            756.0  24.796185  42.237847  0.0000   7.82710   9.59375  26.0000   \n",
       "1            262.0  42.438233  65.468670  6.7500   7.88335  14.85205  38.4375   \n",
       "2            199.0  50.599812  60.720140  7.0000  15.87500  26.25000  60.5875   \n",
       "3             61.0  36.008195  40.677102  3.1708  15.24580  26.00000  36.7500   \n",
       "4             30.0  47.329723  46.984802  0.0000  16.98230  29.50000  66.2073   \n",
       "\n",
       "                       \n",
       "                  max  \n",
       "TitleEncode            \n",
       "0            512.3292  \n",
       "1            512.3292  \n",
       "2            512.3292  \n",
       "3            262.3750  \n",
       "4            227.5250  "
      ]
     },
     "execution_count": 38,
     "metadata": {},
     "output_type": "execute_result"
    }
   ],
   "source": [
    "x.groupby(x[\"TitleEncode\"]).describe()"
   ]
  },
  {
   "cell_type": "code",
   "execution_count": 39,
   "id": "south-latter",
   "metadata": {
    "scrolled": false
   },
   "outputs": [
    {
     "data": {
      "text/html": [
       "<div>\n",
       "<style scoped>\n",
       "    .dataframe tbody tr th:only-of-type {\n",
       "        vertical-align: middle;\n",
       "    }\n",
       "\n",
       "    .dataframe tbody tr th {\n",
       "        vertical-align: top;\n",
       "    }\n",
       "\n",
       "    .dataframe thead tr th {\n",
       "        text-align: left;\n",
       "    }\n",
       "\n",
       "    .dataframe thead tr:last-of-type th {\n",
       "        text-align: right;\n",
       "    }\n",
       "</style>\n",
       "<table border=\"1\" class=\"dataframe\">\n",
       "  <thead>\n",
       "    <tr>\n",
       "      <th></th>\n",
       "      <th colspan=\"8\" halign=\"left\">Age</th>\n",
       "      <th colspan=\"8\" halign=\"left\">Fare</th>\n",
       "    </tr>\n",
       "    <tr>\n",
       "      <th></th>\n",
       "      <th>count</th>\n",
       "      <th>mean</th>\n",
       "      <th>std</th>\n",
       "      <th>min</th>\n",
       "      <th>25%</th>\n",
       "      <th>50%</th>\n",
       "      <th>75%</th>\n",
       "      <th>max</th>\n",
       "      <th>count</th>\n",
       "      <th>mean</th>\n",
       "      <th>std</th>\n",
       "      <th>min</th>\n",
       "      <th>25%</th>\n",
       "      <th>50%</th>\n",
       "      <th>75%</th>\n",
       "      <th>max</th>\n",
       "    </tr>\n",
       "    <tr>\n",
       "      <th>TitleEncode</th>\n",
       "      <th></th>\n",
       "      <th></th>\n",
       "      <th></th>\n",
       "      <th></th>\n",
       "      <th></th>\n",
       "      <th></th>\n",
       "      <th></th>\n",
       "      <th></th>\n",
       "      <th></th>\n",
       "      <th></th>\n",
       "      <th></th>\n",
       "      <th></th>\n",
       "      <th></th>\n",
       "      <th></th>\n",
       "      <th></th>\n",
       "      <th></th>\n",
       "    </tr>\n",
       "  </thead>\n",
       "  <tbody>\n",
       "    <tr>\n",
       "      <th>0</th>\n",
       "      <td>581.0</td>\n",
       "      <td>32.252151</td>\n",
       "      <td>12.422089</td>\n",
       "      <td>11.00</td>\n",
       "      <td>23.00</td>\n",
       "      <td>29.0</td>\n",
       "      <td>39.0</td>\n",
       "      <td>80.0</td>\n",
       "      <td>756.0</td>\n",
       "      <td>24.796185</td>\n",
       "      <td>42.237847</td>\n",
       "      <td>0.0000</td>\n",
       "      <td>7.82710</td>\n",
       "      <td>9.59375</td>\n",
       "      <td>26.0000</td>\n",
       "      <td>512.3292</td>\n",
       "    </tr>\n",
       "    <tr>\n",
       "      <th>1</th>\n",
       "      <td>211.0</td>\n",
       "      <td>21.803744</td>\n",
       "      <td>12.227392</td>\n",
       "      <td>0.17</td>\n",
       "      <td>15.00</td>\n",
       "      <td>22.0</td>\n",
       "      <td>30.0</td>\n",
       "      <td>63.0</td>\n",
       "      <td>262.0</td>\n",
       "      <td>42.438233</td>\n",
       "      <td>65.468670</td>\n",
       "      <td>6.7500</td>\n",
       "      <td>7.88335</td>\n",
       "      <td>14.85205</td>\n",
       "      <td>38.4375</td>\n",
       "      <td>512.3292</td>\n",
       "    </tr>\n",
       "    <tr>\n",
       "      <th>2</th>\n",
       "      <td>172.0</td>\n",
       "      <td>36.982558</td>\n",
       "      <td>12.892027</td>\n",
       "      <td>14.00</td>\n",
       "      <td>26.75</td>\n",
       "      <td>35.5</td>\n",
       "      <td>47.0</td>\n",
       "      <td>76.0</td>\n",
       "      <td>199.0</td>\n",
       "      <td>50.599812</td>\n",
       "      <td>60.720140</td>\n",
       "      <td>7.0000</td>\n",
       "      <td>15.87500</td>\n",
       "      <td>26.25000</td>\n",
       "      <td>60.5875</td>\n",
       "      <td>512.3292</td>\n",
       "    </tr>\n",
       "    <tr>\n",
       "      <th>3</th>\n",
       "      <td>53.0</td>\n",
       "      <td>5.482642</td>\n",
       "      <td>4.161554</td>\n",
       "      <td>0.33</td>\n",
       "      <td>2.00</td>\n",
       "      <td>4.0</td>\n",
       "      <td>9.0</td>\n",
       "      <td>14.5</td>\n",
       "      <td>61.0</td>\n",
       "      <td>36.008195</td>\n",
       "      <td>40.677102</td>\n",
       "      <td>3.1708</td>\n",
       "      <td>15.24580</td>\n",
       "      <td>26.00000</td>\n",
       "      <td>36.7500</td>\n",
       "      <td>262.3750</td>\n",
       "    </tr>\n",
       "    <tr>\n",
       "      <th>4</th>\n",
       "      <td>29.0</td>\n",
       "      <td>43.620690</td>\n",
       "      <td>12.172609</td>\n",
       "      <td>23.00</td>\n",
       "      <td>33.00</td>\n",
       "      <td>45.0</td>\n",
       "      <td>53.0</td>\n",
       "      <td>70.0</td>\n",
       "      <td>30.0</td>\n",
       "      <td>47.329723</td>\n",
       "      <td>46.984802</td>\n",
       "      <td>0.0000</td>\n",
       "      <td>16.98230</td>\n",
       "      <td>29.50000</td>\n",
       "      <td>66.2073</td>\n",
       "      <td>227.5250</td>\n",
       "    </tr>\n",
       "  </tbody>\n",
       "</table>\n",
       "</div>"
      ],
      "text/plain": [
       "               Age                                                        \\\n",
       "             count       mean        std    min    25%   50%   75%   max   \n",
       "TitleEncode                                                                \n",
       "0            581.0  32.252151  12.422089  11.00  23.00  29.0  39.0  80.0   \n",
       "1            211.0  21.803744  12.227392   0.17  15.00  22.0  30.0  63.0   \n",
       "2            172.0  36.982558  12.892027  14.00  26.75  35.5  47.0  76.0   \n",
       "3             53.0   5.482642   4.161554   0.33   2.00   4.0   9.0  14.5   \n",
       "4             29.0  43.620690  12.172609  23.00  33.00  45.0  53.0  70.0   \n",
       "\n",
       "              Fare                                                             \\\n",
       "             count       mean        std     min       25%       50%      75%   \n",
       "TitleEncode                                                                     \n",
       "0            756.0  24.796185  42.237847  0.0000   7.82710   9.59375  26.0000   \n",
       "1            262.0  42.438233  65.468670  6.7500   7.88335  14.85205  38.4375   \n",
       "2            199.0  50.599812  60.720140  7.0000  15.87500  26.25000  60.5875   \n",
       "3             61.0  36.008195  40.677102  3.1708  15.24580  26.00000  36.7500   \n",
       "4             30.0  47.329723  46.984802  0.0000  16.98230  29.50000  66.2073   \n",
       "\n",
       "                       \n",
       "                  max  \n",
       "TitleEncode            \n",
       "0            512.3292  \n",
       "1            512.3292  \n",
       "2            512.3292  \n",
       "3            262.3750  \n",
       "4            227.5250  "
      ]
     },
     "execution_count": 39,
     "metadata": {},
     "output_type": "execute_result"
    }
   ],
   "source": [
    "x.groupby(x[\"TitleEncode\"]).describe()"
   ]
  },
  {
   "cell_type": "code",
   "execution_count": 40,
   "id": "retained-wound",
   "metadata": {},
   "outputs": [
    {
     "data": {
      "text/plain": [
       "0    757\n",
       "1    262\n",
       "2    199\n",
       "3     61\n",
       "4     30\n",
       "Name: TitleEncode, dtype: int64"
      ]
     },
     "execution_count": 40,
     "metadata": {},
     "output_type": "execute_result"
    }
   ],
   "source": [
    "x.TitleEncode.value_counts()"
   ]
  },
  {
   "cell_type": "code",
   "execution_count": 41,
   "id": "front-shipping",
   "metadata": {},
   "outputs": [
    {
     "data": {
      "text/html": [
       "<div>\n",
       "<style scoped>\n",
       "    .dataframe tbody tr th:only-of-type {\n",
       "        vertical-align: middle;\n",
       "    }\n",
       "\n",
       "    .dataframe tbody tr th {\n",
       "        vertical-align: top;\n",
       "    }\n",
       "\n",
       "    .dataframe thead th {\n",
       "        text-align: right;\n",
       "    }\n",
       "</style>\n",
       "<table border=\"1\" class=\"dataframe\">\n",
       "  <thead>\n",
       "    <tr style=\"text-align: right;\">\n",
       "      <th></th>\n",
       "      <th>Age</th>\n",
       "      <th>TitleEncode</th>\n",
       "      <th>Fare</th>\n",
       "    </tr>\n",
       "  </thead>\n",
       "  <tbody>\n",
       "    <tr>\n",
       "      <th>count</th>\n",
       "      <td>581.000000</td>\n",
       "      <td>757.0</td>\n",
       "      <td>756.000000</td>\n",
       "    </tr>\n",
       "    <tr>\n",
       "      <th>mean</th>\n",
       "      <td>32.252151</td>\n",
       "      <td>0.0</td>\n",
       "      <td>24.796185</td>\n",
       "    </tr>\n",
       "    <tr>\n",
       "      <th>std</th>\n",
       "      <td>12.422089</td>\n",
       "      <td>0.0</td>\n",
       "      <td>42.237847</td>\n",
       "    </tr>\n",
       "    <tr>\n",
       "      <th>min</th>\n",
       "      <td>11.000000</td>\n",
       "      <td>0.0</td>\n",
       "      <td>0.000000</td>\n",
       "    </tr>\n",
       "    <tr>\n",
       "      <th>25%</th>\n",
       "      <td>23.000000</td>\n",
       "      <td>0.0</td>\n",
       "      <td>7.827100</td>\n",
       "    </tr>\n",
       "    <tr>\n",
       "      <th>50%</th>\n",
       "      <td>29.000000</td>\n",
       "      <td>0.0</td>\n",
       "      <td>9.593750</td>\n",
       "    </tr>\n",
       "    <tr>\n",
       "      <th>75%</th>\n",
       "      <td>39.000000</td>\n",
       "      <td>0.0</td>\n",
       "      <td>26.000000</td>\n",
       "    </tr>\n",
       "    <tr>\n",
       "      <th>max</th>\n",
       "      <td>80.000000</td>\n",
       "      <td>0.0</td>\n",
       "      <td>512.329200</td>\n",
       "    </tr>\n",
       "  </tbody>\n",
       "</table>\n",
       "</div>"
      ],
      "text/plain": [
       "              Age  TitleEncode        Fare\n",
       "count  581.000000        757.0  756.000000\n",
       "mean    32.252151          0.0   24.796185\n",
       "std     12.422089          0.0   42.237847\n",
       "min     11.000000          0.0    0.000000\n",
       "25%     23.000000          0.0    7.827100\n",
       "50%     29.000000          0.0    9.593750\n",
       "75%     39.000000          0.0   26.000000\n",
       "max     80.000000          0.0  512.329200"
      ]
     },
     "execution_count": 41,
     "metadata": {},
     "output_type": "execute_result"
    }
   ],
   "source": [
    "x[x[\"TitleEncode\"]== 0].describe()"
   ]
  },
  {
   "cell_type": "code",
   "execution_count": 42,
   "id": "radical-access",
   "metadata": {},
   "outputs": [
    {
     "name": "stdout",
     "output_type": "stream",
     "text": [
      "757\n",
      "262\n",
      "199\n",
      "61\n",
      "30\n"
     ]
    }
   ],
   "source": [
    "for i in x.TitleEncode.value_counts():\n",
    "    print(i)"
   ]
  },
  {
   "cell_type": "code",
   "execution_count": 43,
   "id": "national-negative",
   "metadata": {},
   "outputs": [
    {
     "name": "stderr",
     "output_type": "stream",
     "text": [
      "C:\\Users\\tanzi\\anaconda3\\lib\\site-packages\\pandas\\core\\series.py:4460: SettingWithCopyWarning: \n",
      "A value is trying to be set on a copy of a slice from a DataFrame\n",
      "\n",
      "See the caveats in the documentation: https://pandas.pydata.org/pandas-docs/stable/user_guide/indexing.html#returning-a-view-versus-a-copy\n",
      "  return super().fillna(\n"
     ]
    }
   ],
   "source": [
    "x[\"Age\"].fillna(x.groupby(\"TitleEncode\")[\"Age\"].transform(\"median\"), inplace=True)"
   ]
  },
  {
   "cell_type": "code",
   "execution_count": 44,
   "id": "junior-valentine",
   "metadata": {},
   "outputs": [
    {
     "data": {
      "text/plain": [
       "0"
      ]
     },
     "execution_count": 44,
     "metadata": {},
     "output_type": "execute_result"
    }
   ],
   "source": [
    "x[\"Age\"].isnull().sum()"
   ]
  },
  {
   "cell_type": "code",
   "execution_count": 45,
   "id": "reserved-cancer",
   "metadata": {},
   "outputs": [
    {
     "data": {
      "text/plain": [
       "Age            0\n",
       "TitleEncode    0\n",
       "Fare           1\n",
       "Sex            0\n",
       "dtype: int64"
      ]
     },
     "execution_count": 45,
     "metadata": {},
     "output_type": "execute_result"
    }
   ],
   "source": [
    "x.isnull().sum()"
   ]
  },
  {
   "cell_type": "code",
   "execution_count": 46,
   "id": "enhanced-still",
   "metadata": {},
   "outputs": [],
   "source": [
    "# titanic.Age = x.Age\n",
    "train.Age = x.Age"
   ]
  },
  {
   "cell_type": "code",
   "execution_count": 47,
   "id": "detailed-account",
   "metadata": {},
   "outputs": [
    {
     "data": {
      "text/plain": [
       "PassengerId         0\n",
       "Survived            0\n",
       "Pclass              0\n",
       "Sex                 0\n",
       "Age                 0\n",
       "SibSp               0\n",
       "Parch               0\n",
       "Ticket              0\n",
       "Fare                1\n",
       "Cabin            1014\n",
       "Embarked            2\n",
       "FamilyMembers       0\n",
       "TitleEncode         0\n",
       "Title               0\n",
       "dtype: int64"
      ]
     },
     "execution_count": 47,
     "metadata": {},
     "output_type": "execute_result"
    }
   ],
   "source": [
    "# titanic.isnull().sum()\n",
    "train.isnull().sum()"
   ]
  },
  {
   "cell_type": "code",
   "execution_count": 48,
   "id": "buried-mongolia",
   "metadata": {},
   "outputs": [
    {
     "data": {
      "text/plain": [
       "33.2954792813456"
      ]
     },
     "execution_count": 48,
     "metadata": {},
     "output_type": "execute_result"
    }
   ],
   "source": [
    "# titanic[\"Fare\"].mean()\n",
    "train[\"Fare\"].mean()"
   ]
  },
  {
   "cell_type": "code",
   "execution_count": 49,
   "id": "optimum-prefix",
   "metadata": {},
   "outputs": [],
   "source": [
    "# titanic[\"Fare\"].fillna(value = titanic[\"Fare\"].mean(), inplace=True)\n",
    "train[\"Fare\"].fillna(value = train[\"Fare\"].mean(), inplace=True)"
   ]
  },
  {
   "cell_type": "code",
   "execution_count": 50,
   "id": "static-birth",
   "metadata": {},
   "outputs": [
    {
     "data": {
      "text/plain": [
       "PassengerId         0\n",
       "Survived            0\n",
       "Pclass              0\n",
       "Sex                 0\n",
       "Age                 0\n",
       "SibSp               0\n",
       "Parch               0\n",
       "Ticket              0\n",
       "Fare                0\n",
       "Cabin            1014\n",
       "Embarked            2\n",
       "FamilyMembers       0\n",
       "TitleEncode         0\n",
       "Title               0\n",
       "dtype: int64"
      ]
     },
     "execution_count": 50,
     "metadata": {},
     "output_type": "execute_result"
    }
   ],
   "source": [
    "# titanic.isnull().sum()\n",
    "train.isnull().sum()"
   ]
  },
  {
   "cell_type": "code",
   "execution_count": 51,
   "id": "dietary-triple",
   "metadata": {},
   "outputs": [],
   "source": [
    "# titanic['Embarked'].fillna(titanic['Embarked'].mode()[0], inplace=True)\n",
    "train['Embarked'].fillna(train['Embarked'].mode()[0], inplace=True)"
   ]
  },
  {
   "cell_type": "code",
   "execution_count": 52,
   "id": "binary-active",
   "metadata": {},
   "outputs": [
    {
     "data": {
      "text/plain": [
       "PassengerId         0\n",
       "Survived            0\n",
       "Pclass              0\n",
       "Sex                 0\n",
       "Age                 0\n",
       "SibSp               0\n",
       "Parch               0\n",
       "Ticket              0\n",
       "Fare                0\n",
       "Cabin            1014\n",
       "Embarked            0\n",
       "FamilyMembers       0\n",
       "TitleEncode         0\n",
       "Title               0\n",
       "dtype: int64"
      ]
     },
     "execution_count": 52,
     "metadata": {},
     "output_type": "execute_result"
    }
   ],
   "source": [
    "# titanic.isnull().sum()\n",
    "train.isnull().sum()"
   ]
  },
  {
   "cell_type": "code",
   "execution_count": 53,
   "id": "dying-remove",
   "metadata": {},
   "outputs": [
    {
     "data": {
      "text/plain": [
       "Index(['PassengerId', 'Survived', 'Pclass', 'Sex', 'Age', 'SibSp', 'Parch',\n",
       "       'Ticket', 'Fare', 'Cabin', 'Embarked', 'FamilyMembers', 'TitleEncode',\n",
       "       'Title'],\n",
       "      dtype='object')"
      ]
     },
     "execution_count": 53,
     "metadata": {},
     "output_type": "execute_result"
    }
   ],
   "source": [
    "# titanic.columns\n",
    "train.columns"
   ]
  },
  {
   "cell_type": "code",
   "execution_count": 54,
   "id": "fundamental-animal",
   "metadata": {},
   "outputs": [],
   "source": [
    "# titanic.drop(['PassengerId','FamilyMembers','Ticket','Cabin','Title'], axis=1, inplace=True)\n",
    "train.drop(['PassengerId','FamilyMembers','Ticket','Cabin','Title'], axis=1, inplace=True)"
   ]
  },
  {
   "cell_type": "code",
   "execution_count": 56,
   "id": "compact-tomorrow",
   "metadata": {
    "scrolled": false
   },
   "outputs": [
    {
     "data": {
      "text/html": [
       "<div>\n",
       "<style scoped>\n",
       "    .dataframe tbody tr th:only-of-type {\n",
       "        vertical-align: middle;\n",
       "    }\n",
       "\n",
       "    .dataframe tbody tr th {\n",
       "        vertical-align: top;\n",
       "    }\n",
       "\n",
       "    .dataframe thead th {\n",
       "        text-align: right;\n",
       "    }\n",
       "</style>\n",
       "<table border=\"1\" class=\"dataframe\">\n",
       "  <thead>\n",
       "    <tr style=\"text-align: right;\">\n",
       "      <th></th>\n",
       "      <th>Survived</th>\n",
       "      <th>Pclass</th>\n",
       "      <th>Sex</th>\n",
       "      <th>Age</th>\n",
       "      <th>SibSp</th>\n",
       "      <th>Parch</th>\n",
       "      <th>Fare</th>\n",
       "      <th>Embarked</th>\n",
       "      <th>TitleEncode</th>\n",
       "    </tr>\n",
       "  </thead>\n",
       "  <tbody>\n",
       "    <tr>\n",
       "      <th>0</th>\n",
       "      <td>0</td>\n",
       "      <td>3</td>\n",
       "      <td>male</td>\n",
       "      <td>22.0</td>\n",
       "      <td>1</td>\n",
       "      <td>0</td>\n",
       "      <td>7.2500</td>\n",
       "      <td>S</td>\n",
       "      <td>0</td>\n",
       "    </tr>\n",
       "    <tr>\n",
       "      <th>1</th>\n",
       "      <td>1</td>\n",
       "      <td>1</td>\n",
       "      <td>female</td>\n",
       "      <td>38.0</td>\n",
       "      <td>1</td>\n",
       "      <td>0</td>\n",
       "      <td>71.2833</td>\n",
       "      <td>C</td>\n",
       "      <td>2</td>\n",
       "    </tr>\n",
       "    <tr>\n",
       "      <th>2</th>\n",
       "      <td>1</td>\n",
       "      <td>3</td>\n",
       "      <td>female</td>\n",
       "      <td>26.0</td>\n",
       "      <td>0</td>\n",
       "      <td>0</td>\n",
       "      <td>7.9250</td>\n",
       "      <td>S</td>\n",
       "      <td>1</td>\n",
       "    </tr>\n",
       "    <tr>\n",
       "      <th>3</th>\n",
       "      <td>1</td>\n",
       "      <td>1</td>\n",
       "      <td>female</td>\n",
       "      <td>35.0</td>\n",
       "      <td>1</td>\n",
       "      <td>0</td>\n",
       "      <td>53.1000</td>\n",
       "      <td>S</td>\n",
       "      <td>2</td>\n",
       "    </tr>\n",
       "    <tr>\n",
       "      <th>4</th>\n",
       "      <td>0</td>\n",
       "      <td>3</td>\n",
       "      <td>male</td>\n",
       "      <td>35.0</td>\n",
       "      <td>0</td>\n",
       "      <td>0</td>\n",
       "      <td>8.0500</td>\n",
       "      <td>S</td>\n",
       "      <td>0</td>\n",
       "    </tr>\n",
       "    <tr>\n",
       "      <th>5</th>\n",
       "      <td>0</td>\n",
       "      <td>3</td>\n",
       "      <td>male</td>\n",
       "      <td>29.0</td>\n",
       "      <td>0</td>\n",
       "      <td>0</td>\n",
       "      <td>8.4583</td>\n",
       "      <td>Q</td>\n",
       "      <td>0</td>\n",
       "    </tr>\n",
       "    <tr>\n",
       "      <th>6</th>\n",
       "      <td>0</td>\n",
       "      <td>1</td>\n",
       "      <td>male</td>\n",
       "      <td>54.0</td>\n",
       "      <td>0</td>\n",
       "      <td>0</td>\n",
       "      <td>51.8625</td>\n",
       "      <td>S</td>\n",
       "      <td>0</td>\n",
       "    </tr>\n",
       "    <tr>\n",
       "      <th>7</th>\n",
       "      <td>0</td>\n",
       "      <td>3</td>\n",
       "      <td>male</td>\n",
       "      <td>2.0</td>\n",
       "      <td>3</td>\n",
       "      <td>1</td>\n",
       "      <td>21.0750</td>\n",
       "      <td>S</td>\n",
       "      <td>3</td>\n",
       "    </tr>\n",
       "    <tr>\n",
       "      <th>8</th>\n",
       "      <td>1</td>\n",
       "      <td>3</td>\n",
       "      <td>female</td>\n",
       "      <td>27.0</td>\n",
       "      <td>0</td>\n",
       "      <td>2</td>\n",
       "      <td>11.1333</td>\n",
       "      <td>S</td>\n",
       "      <td>2</td>\n",
       "    </tr>\n",
       "    <tr>\n",
       "      <th>9</th>\n",
       "      <td>1</td>\n",
       "      <td>2</td>\n",
       "      <td>female</td>\n",
       "      <td>14.0</td>\n",
       "      <td>1</td>\n",
       "      <td>0</td>\n",
       "      <td>30.0708</td>\n",
       "      <td>C</td>\n",
       "      <td>2</td>\n",
       "    </tr>\n",
       "    <tr>\n",
       "      <th>10</th>\n",
       "      <td>1</td>\n",
       "      <td>3</td>\n",
       "      <td>female</td>\n",
       "      <td>4.0</td>\n",
       "      <td>1</td>\n",
       "      <td>1</td>\n",
       "      <td>16.7000</td>\n",
       "      <td>S</td>\n",
       "      <td>1</td>\n",
       "    </tr>\n",
       "    <tr>\n",
       "      <th>11</th>\n",
       "      <td>1</td>\n",
       "      <td>1</td>\n",
       "      <td>female</td>\n",
       "      <td>58.0</td>\n",
       "      <td>0</td>\n",
       "      <td>0</td>\n",
       "      <td>26.5500</td>\n",
       "      <td>S</td>\n",
       "      <td>1</td>\n",
       "    </tr>\n",
       "    <tr>\n",
       "      <th>12</th>\n",
       "      <td>0</td>\n",
       "      <td>3</td>\n",
       "      <td>male</td>\n",
       "      <td>20.0</td>\n",
       "      <td>0</td>\n",
       "      <td>0</td>\n",
       "      <td>8.0500</td>\n",
       "      <td>S</td>\n",
       "      <td>0</td>\n",
       "    </tr>\n",
       "    <tr>\n",
       "      <th>13</th>\n",
       "      <td>0</td>\n",
       "      <td>3</td>\n",
       "      <td>male</td>\n",
       "      <td>39.0</td>\n",
       "      <td>1</td>\n",
       "      <td>5</td>\n",
       "      <td>31.2750</td>\n",
       "      <td>S</td>\n",
       "      <td>0</td>\n",
       "    </tr>\n",
       "    <tr>\n",
       "      <th>14</th>\n",
       "      <td>0</td>\n",
       "      <td>3</td>\n",
       "      <td>female</td>\n",
       "      <td>14.0</td>\n",
       "      <td>0</td>\n",
       "      <td>0</td>\n",
       "      <td>7.8542</td>\n",
       "      <td>S</td>\n",
       "      <td>1</td>\n",
       "    </tr>\n",
       "    <tr>\n",
       "      <th>15</th>\n",
       "      <td>1</td>\n",
       "      <td>2</td>\n",
       "      <td>female</td>\n",
       "      <td>55.0</td>\n",
       "      <td>0</td>\n",
       "      <td>0</td>\n",
       "      <td>16.0000</td>\n",
       "      <td>S</td>\n",
       "      <td>2</td>\n",
       "    </tr>\n",
       "    <tr>\n",
       "      <th>16</th>\n",
       "      <td>0</td>\n",
       "      <td>3</td>\n",
       "      <td>male</td>\n",
       "      <td>2.0</td>\n",
       "      <td>4</td>\n",
       "      <td>1</td>\n",
       "      <td>29.1250</td>\n",
       "      <td>Q</td>\n",
       "      <td>3</td>\n",
       "    </tr>\n",
       "    <tr>\n",
       "      <th>17</th>\n",
       "      <td>1</td>\n",
       "      <td>2</td>\n",
       "      <td>male</td>\n",
       "      <td>29.0</td>\n",
       "      <td>0</td>\n",
       "      <td>0</td>\n",
       "      <td>13.0000</td>\n",
       "      <td>S</td>\n",
       "      <td>0</td>\n",
       "    </tr>\n",
       "    <tr>\n",
       "      <th>18</th>\n",
       "      <td>0</td>\n",
       "      <td>3</td>\n",
       "      <td>female</td>\n",
       "      <td>31.0</td>\n",
       "      <td>1</td>\n",
       "      <td>0</td>\n",
       "      <td>18.0000</td>\n",
       "      <td>S</td>\n",
       "      <td>2</td>\n",
       "    </tr>\n",
       "    <tr>\n",
       "      <th>19</th>\n",
       "      <td>1</td>\n",
       "      <td>3</td>\n",
       "      <td>female</td>\n",
       "      <td>35.5</td>\n",
       "      <td>0</td>\n",
       "      <td>0</td>\n",
       "      <td>7.2250</td>\n",
       "      <td>C</td>\n",
       "      <td>2</td>\n",
       "    </tr>\n",
       "  </tbody>\n",
       "</table>\n",
       "</div>"
      ],
      "text/plain": [
       "    Survived  Pclass     Sex   Age  SibSp  Parch     Fare Embarked  \\\n",
       "0          0       3    male  22.0      1      0   7.2500        S   \n",
       "1          1       1  female  38.0      1      0  71.2833        C   \n",
       "2          1       3  female  26.0      0      0   7.9250        S   \n",
       "3          1       1  female  35.0      1      0  53.1000        S   \n",
       "4          0       3    male  35.0      0      0   8.0500        S   \n",
       "5          0       3    male  29.0      0      0   8.4583        Q   \n",
       "6          0       1    male  54.0      0      0  51.8625        S   \n",
       "7          0       3    male   2.0      3      1  21.0750        S   \n",
       "8          1       3  female  27.0      0      2  11.1333        S   \n",
       "9          1       2  female  14.0      1      0  30.0708        C   \n",
       "10         1       3  female   4.0      1      1  16.7000        S   \n",
       "11         1       1  female  58.0      0      0  26.5500        S   \n",
       "12         0       3    male  20.0      0      0   8.0500        S   \n",
       "13         0       3    male  39.0      1      5  31.2750        S   \n",
       "14         0       3  female  14.0      0      0   7.8542        S   \n",
       "15         1       2  female  55.0      0      0  16.0000        S   \n",
       "16         0       3    male   2.0      4      1  29.1250        Q   \n",
       "17         1       2    male  29.0      0      0  13.0000        S   \n",
       "18         0       3  female  31.0      1      0  18.0000        S   \n",
       "19         1       3  female  35.5      0      0   7.2250        C   \n",
       "\n",
       "    TitleEncode  \n",
       "0             0  \n",
       "1             2  \n",
       "2             1  \n",
       "3             2  \n",
       "4             0  \n",
       "5             0  \n",
       "6             0  \n",
       "7             3  \n",
       "8             2  \n",
       "9             2  \n",
       "10            1  \n",
       "11            1  \n",
       "12            0  \n",
       "13            0  \n",
       "14            1  \n",
       "15            2  \n",
       "16            3  \n",
       "17            0  \n",
       "18            2  \n",
       "19            2  "
      ]
     },
     "execution_count": 56,
     "metadata": {},
     "output_type": "execute_result"
    }
   ],
   "source": [
    "# titanic.head(20)\n",
    "train.head(20)"
   ]
  },
  {
   "cell_type": "code",
   "execution_count": 57,
   "id": "fleet-semester",
   "metadata": {
    "scrolled": true
   },
   "outputs": [
    {
     "data": {
      "text/plain": [
       "Survived  Pclass  Sex   Age   SibSp  Parch  Fare     Embarked  TitleEncode\n",
       "0         3       male  29.0  0      0      8.0500   S         0              19\n",
       "                                            7.7500   Q         0              18\n",
       "                                            7.8958   S         0              16\n",
       "                                            7.2292   C         0               8\n",
       "                                            7.2250   C         0               7\n",
       "                                                                              ..\n",
       "          2       male  54.0  0      0      26.0000  S         0               1\n",
       "                              1      0      26.0000  S         4               1\n",
       "                        57.0  0      0      12.3500  Q         4               1\n",
       "                                            13.0000  S         0               1\n",
       "1         3       male  45.0  0      0      8.0500   S         0               1\n",
       "Length: 682, dtype: int64"
      ]
     },
     "execution_count": 57,
     "metadata": {},
     "output_type": "execute_result"
    }
   ],
   "source": [
    "# titanic[titanic[\"Sex\"] == \"male\"].value_counts()\n",
    "train[titanic[\"Sex\"] == \"male\"].value_counts()"
   ]
  },
  {
   "cell_type": "code",
   "execution_count": 58,
   "id": "surrounded-behalf",
   "metadata": {},
   "outputs": [],
   "source": [
    "# sex_mapping = {\"male\": 0, \"female\": 1}\n",
    "# titanic[\"Sex\"] = titanic[\"Sex\"].map(sex_mapping)\n",
    "# embarked_mapping = {\"S\": 0, \"Q\": 1, \"C\":2}\n",
    "# titanic[\"Embarked\"] = titanic[\"Embarked\"].map(embarked_mapping)\n",
    "sex_mapping = {\"male\": 0, \"female\": 1}\n",
    "titanic[\"Sex\"] = titanic[\"Sex\"].map(sex_mapping)\n",
    "embarked_mapping = {\"S\": 0, \"Q\": 1, \"C\":2}\n",
    "titanic[\"Embarked\"] = titanic[\"Embarked\"].map(embarked_mapping)"
   ]
  },
  {
   "cell_type": "code",
   "execution_count": 59,
   "id": "dutch-workstation",
   "metadata": {},
   "outputs": [
    {
     "data": {
      "text/html": [
       "<div>\n",
       "<style scoped>\n",
       "    .dataframe tbody tr th:only-of-type {\n",
       "        vertical-align: middle;\n",
       "    }\n",
       "\n",
       "    .dataframe tbody tr th {\n",
       "        vertical-align: top;\n",
       "    }\n",
       "\n",
       "    .dataframe thead th {\n",
       "        text-align: right;\n",
       "    }\n",
       "</style>\n",
       "<table border=\"1\" class=\"dataframe\">\n",
       "  <thead>\n",
       "    <tr style=\"text-align: right;\">\n",
       "      <th></th>\n",
       "      <th>Survived</th>\n",
       "      <th>Pclass</th>\n",
       "      <th>Sex</th>\n",
       "      <th>Age</th>\n",
       "      <th>SibSp</th>\n",
       "      <th>Parch</th>\n",
       "      <th>Fare</th>\n",
       "      <th>Embarked</th>\n",
       "      <th>TitleEncode</th>\n",
       "    </tr>\n",
       "  </thead>\n",
       "  <tbody>\n",
       "    <tr>\n",
       "      <th>0</th>\n",
       "      <td>0</td>\n",
       "      <td>3</td>\n",
       "      <td>0</td>\n",
       "      <td>22.0</td>\n",
       "      <td>1</td>\n",
       "      <td>0</td>\n",
       "      <td>7.2500</td>\n",
       "      <td>0</td>\n",
       "      <td>0</td>\n",
       "    </tr>\n",
       "    <tr>\n",
       "      <th>1</th>\n",
       "      <td>1</td>\n",
       "      <td>1</td>\n",
       "      <td>1</td>\n",
       "      <td>38.0</td>\n",
       "      <td>1</td>\n",
       "      <td>0</td>\n",
       "      <td>71.2833</td>\n",
       "      <td>2</td>\n",
       "      <td>2</td>\n",
       "    </tr>\n",
       "    <tr>\n",
       "      <th>2</th>\n",
       "      <td>1</td>\n",
       "      <td>3</td>\n",
       "      <td>1</td>\n",
       "      <td>26.0</td>\n",
       "      <td>0</td>\n",
       "      <td>0</td>\n",
       "      <td>7.9250</td>\n",
       "      <td>0</td>\n",
       "      <td>1</td>\n",
       "    </tr>\n",
       "    <tr>\n",
       "      <th>3</th>\n",
       "      <td>1</td>\n",
       "      <td>1</td>\n",
       "      <td>1</td>\n",
       "      <td>35.0</td>\n",
       "      <td>1</td>\n",
       "      <td>0</td>\n",
       "      <td>53.1000</td>\n",
       "      <td>0</td>\n",
       "      <td>2</td>\n",
       "    </tr>\n",
       "    <tr>\n",
       "      <th>4</th>\n",
       "      <td>0</td>\n",
       "      <td>3</td>\n",
       "      <td>0</td>\n",
       "      <td>35.0</td>\n",
       "      <td>0</td>\n",
       "      <td>0</td>\n",
       "      <td>8.0500</td>\n",
       "      <td>0</td>\n",
       "      <td>0</td>\n",
       "    </tr>\n",
       "    <tr>\n",
       "      <th>5</th>\n",
       "      <td>0</td>\n",
       "      <td>3</td>\n",
       "      <td>0</td>\n",
       "      <td>29.0</td>\n",
       "      <td>0</td>\n",
       "      <td>0</td>\n",
       "      <td>8.4583</td>\n",
       "      <td>1</td>\n",
       "      <td>0</td>\n",
       "    </tr>\n",
       "    <tr>\n",
       "      <th>6</th>\n",
       "      <td>0</td>\n",
       "      <td>1</td>\n",
       "      <td>0</td>\n",
       "      <td>54.0</td>\n",
       "      <td>0</td>\n",
       "      <td>0</td>\n",
       "      <td>51.8625</td>\n",
       "      <td>0</td>\n",
       "      <td>0</td>\n",
       "    </tr>\n",
       "    <tr>\n",
       "      <th>7</th>\n",
       "      <td>0</td>\n",
       "      <td>3</td>\n",
       "      <td>0</td>\n",
       "      <td>2.0</td>\n",
       "      <td>3</td>\n",
       "      <td>1</td>\n",
       "      <td>21.0750</td>\n",
       "      <td>0</td>\n",
       "      <td>3</td>\n",
       "    </tr>\n",
       "    <tr>\n",
       "      <th>8</th>\n",
       "      <td>1</td>\n",
       "      <td>3</td>\n",
       "      <td>1</td>\n",
       "      <td>27.0</td>\n",
       "      <td>0</td>\n",
       "      <td>2</td>\n",
       "      <td>11.1333</td>\n",
       "      <td>0</td>\n",
       "      <td>2</td>\n",
       "    </tr>\n",
       "    <tr>\n",
       "      <th>9</th>\n",
       "      <td>1</td>\n",
       "      <td>2</td>\n",
       "      <td>1</td>\n",
       "      <td>14.0</td>\n",
       "      <td>1</td>\n",
       "      <td>0</td>\n",
       "      <td>30.0708</td>\n",
       "      <td>2</td>\n",
       "      <td>2</td>\n",
       "    </tr>\n",
       "    <tr>\n",
       "      <th>10</th>\n",
       "      <td>1</td>\n",
       "      <td>3</td>\n",
       "      <td>1</td>\n",
       "      <td>4.0</td>\n",
       "      <td>1</td>\n",
       "      <td>1</td>\n",
       "      <td>16.7000</td>\n",
       "      <td>0</td>\n",
       "      <td>1</td>\n",
       "    </tr>\n",
       "    <tr>\n",
       "      <th>11</th>\n",
       "      <td>1</td>\n",
       "      <td>1</td>\n",
       "      <td>1</td>\n",
       "      <td>58.0</td>\n",
       "      <td>0</td>\n",
       "      <td>0</td>\n",
       "      <td>26.5500</td>\n",
       "      <td>0</td>\n",
       "      <td>1</td>\n",
       "    </tr>\n",
       "    <tr>\n",
       "      <th>12</th>\n",
       "      <td>0</td>\n",
       "      <td>3</td>\n",
       "      <td>0</td>\n",
       "      <td>20.0</td>\n",
       "      <td>0</td>\n",
       "      <td>0</td>\n",
       "      <td>8.0500</td>\n",
       "      <td>0</td>\n",
       "      <td>0</td>\n",
       "    </tr>\n",
       "    <tr>\n",
       "      <th>13</th>\n",
       "      <td>0</td>\n",
       "      <td>3</td>\n",
       "      <td>0</td>\n",
       "      <td>39.0</td>\n",
       "      <td>1</td>\n",
       "      <td>5</td>\n",
       "      <td>31.2750</td>\n",
       "      <td>0</td>\n",
       "      <td>0</td>\n",
       "    </tr>\n",
       "    <tr>\n",
       "      <th>14</th>\n",
       "      <td>0</td>\n",
       "      <td>3</td>\n",
       "      <td>1</td>\n",
       "      <td>14.0</td>\n",
       "      <td>0</td>\n",
       "      <td>0</td>\n",
       "      <td>7.8542</td>\n",
       "      <td>0</td>\n",
       "      <td>1</td>\n",
       "    </tr>\n",
       "    <tr>\n",
       "      <th>15</th>\n",
       "      <td>1</td>\n",
       "      <td>2</td>\n",
       "      <td>1</td>\n",
       "      <td>55.0</td>\n",
       "      <td>0</td>\n",
       "      <td>0</td>\n",
       "      <td>16.0000</td>\n",
       "      <td>0</td>\n",
       "      <td>2</td>\n",
       "    </tr>\n",
       "    <tr>\n",
       "      <th>16</th>\n",
       "      <td>0</td>\n",
       "      <td>3</td>\n",
       "      <td>0</td>\n",
       "      <td>2.0</td>\n",
       "      <td>4</td>\n",
       "      <td>1</td>\n",
       "      <td>29.1250</td>\n",
       "      <td>1</td>\n",
       "      <td>3</td>\n",
       "    </tr>\n",
       "    <tr>\n",
       "      <th>17</th>\n",
       "      <td>1</td>\n",
       "      <td>2</td>\n",
       "      <td>0</td>\n",
       "      <td>29.0</td>\n",
       "      <td>0</td>\n",
       "      <td>0</td>\n",
       "      <td>13.0000</td>\n",
       "      <td>0</td>\n",
       "      <td>0</td>\n",
       "    </tr>\n",
       "    <tr>\n",
       "      <th>18</th>\n",
       "      <td>0</td>\n",
       "      <td>3</td>\n",
       "      <td>1</td>\n",
       "      <td>31.0</td>\n",
       "      <td>1</td>\n",
       "      <td>0</td>\n",
       "      <td>18.0000</td>\n",
       "      <td>0</td>\n",
       "      <td>2</td>\n",
       "    </tr>\n",
       "    <tr>\n",
       "      <th>19</th>\n",
       "      <td>1</td>\n",
       "      <td>3</td>\n",
       "      <td>1</td>\n",
       "      <td>35.5</td>\n",
       "      <td>0</td>\n",
       "      <td>0</td>\n",
       "      <td>7.2250</td>\n",
       "      <td>2</td>\n",
       "      <td>2</td>\n",
       "    </tr>\n",
       "  </tbody>\n",
       "</table>\n",
       "</div>"
      ],
      "text/plain": [
       "    Survived  Pclass  Sex   Age  SibSp  Parch     Fare  Embarked  TitleEncode\n",
       "0          0       3    0  22.0      1      0   7.2500         0            0\n",
       "1          1       1    1  38.0      1      0  71.2833         2            2\n",
       "2          1       3    1  26.0      0      0   7.9250         0            1\n",
       "3          1       1    1  35.0      1      0  53.1000         0            2\n",
       "4          0       3    0  35.0      0      0   8.0500         0            0\n",
       "5          0       3    0  29.0      0      0   8.4583         1            0\n",
       "6          0       1    0  54.0      0      0  51.8625         0            0\n",
       "7          0       3    0   2.0      3      1  21.0750         0            3\n",
       "8          1       3    1  27.0      0      2  11.1333         0            2\n",
       "9          1       2    1  14.0      1      0  30.0708         2            2\n",
       "10         1       3    1   4.0      1      1  16.7000         0            1\n",
       "11         1       1    1  58.0      0      0  26.5500         0            1\n",
       "12         0       3    0  20.0      0      0   8.0500         0            0\n",
       "13         0       3    0  39.0      1      5  31.2750         0            0\n",
       "14         0       3    1  14.0      0      0   7.8542         0            1\n",
       "15         1       2    1  55.0      0      0  16.0000         0            2\n",
       "16         0       3    0   2.0      4      1  29.1250         1            3\n",
       "17         1       2    0  29.0      0      0  13.0000         0            0\n",
       "18         0       3    1  31.0      1      0  18.0000         0            2\n",
       "19         1       3    1  35.5      0      0   7.2250         2            2"
      ]
     },
     "execution_count": 59,
     "metadata": {},
     "output_type": "execute_result"
    }
   ],
   "source": [
    "# titanic.head(20)\n",
    "titanic.head(20)"
   ]
  },
  {
   "cell_type": "code",
   "execution_count": 60,
   "id": "virgin-couple",
   "metadata": {
    "scrolled": true
   },
   "outputs": [
    {
     "data": {
      "text/plain": [
       "Survived       0\n",
       "Pclass         0\n",
       "Sex            0\n",
       "Age            0\n",
       "SibSp          0\n",
       "Parch          0\n",
       "Fare           0\n",
       "Embarked       0\n",
       "TitleEncode    0\n",
       "dtype: int64"
      ]
     },
     "execution_count": 60,
     "metadata": {},
     "output_type": "execute_result"
    }
   ],
   "source": [
    "# titanic.isnull().sum()\n",
    "titanic.isnull().sum()"
   ]
  },
  {
   "cell_type": "code",
   "execution_count": 61,
   "id": "victorian-scene",
   "metadata": {},
   "outputs": [],
   "source": [
    "# titanic.Embarked.fillna(0,inplace=True)"
   ]
  },
  {
   "cell_type": "code",
   "execution_count": 62,
   "id": "ancient-money",
   "metadata": {
    "scrolled": true
   },
   "outputs": [
    {
     "data": {
      "text/html": [
       "<div>\n",
       "<style scoped>\n",
       "    .dataframe tbody tr th:only-of-type {\n",
       "        vertical-align: middle;\n",
       "    }\n",
       "\n",
       "    .dataframe tbody tr th {\n",
       "        vertical-align: top;\n",
       "    }\n",
       "\n",
       "    .dataframe thead th {\n",
       "        text-align: right;\n",
       "    }\n",
       "</style>\n",
       "<table border=\"1\" class=\"dataframe\">\n",
       "  <thead>\n",
       "    <tr style=\"text-align: right;\">\n",
       "      <th></th>\n",
       "      <th>Survived</th>\n",
       "      <th>Pclass</th>\n",
       "      <th>Sex</th>\n",
       "      <th>Age</th>\n",
       "      <th>SibSp</th>\n",
       "      <th>Parch</th>\n",
       "      <th>Fare</th>\n",
       "      <th>Embarked</th>\n",
       "      <th>TitleEncode</th>\n",
       "    </tr>\n",
       "  </thead>\n",
       "  <tbody>\n",
       "    <tr>\n",
       "      <th>0</th>\n",
       "      <td>0</td>\n",
       "      <td>3</td>\n",
       "      <td>0</td>\n",
       "      <td>22.0</td>\n",
       "      <td>1</td>\n",
       "      <td>0</td>\n",
       "      <td>7.2500</td>\n",
       "      <td>0</td>\n",
       "      <td>0</td>\n",
       "    </tr>\n",
       "    <tr>\n",
       "      <th>1</th>\n",
       "      <td>1</td>\n",
       "      <td>1</td>\n",
       "      <td>1</td>\n",
       "      <td>38.0</td>\n",
       "      <td>1</td>\n",
       "      <td>0</td>\n",
       "      <td>71.2833</td>\n",
       "      <td>2</td>\n",
       "      <td>2</td>\n",
       "    </tr>\n",
       "    <tr>\n",
       "      <th>2</th>\n",
       "      <td>1</td>\n",
       "      <td>3</td>\n",
       "      <td>1</td>\n",
       "      <td>26.0</td>\n",
       "      <td>0</td>\n",
       "      <td>0</td>\n",
       "      <td>7.9250</td>\n",
       "      <td>0</td>\n",
       "      <td>1</td>\n",
       "    </tr>\n",
       "    <tr>\n",
       "      <th>3</th>\n",
       "      <td>1</td>\n",
       "      <td>1</td>\n",
       "      <td>1</td>\n",
       "      <td>35.0</td>\n",
       "      <td>1</td>\n",
       "      <td>0</td>\n",
       "      <td>53.1000</td>\n",
       "      <td>0</td>\n",
       "      <td>2</td>\n",
       "    </tr>\n",
       "    <tr>\n",
       "      <th>4</th>\n",
       "      <td>0</td>\n",
       "      <td>3</td>\n",
       "      <td>0</td>\n",
       "      <td>35.0</td>\n",
       "      <td>0</td>\n",
       "      <td>0</td>\n",
       "      <td>8.0500</td>\n",
       "      <td>0</td>\n",
       "      <td>0</td>\n",
       "    </tr>\n",
       "    <tr>\n",
       "      <th>5</th>\n",
       "      <td>0</td>\n",
       "      <td>3</td>\n",
       "      <td>0</td>\n",
       "      <td>29.0</td>\n",
       "      <td>0</td>\n",
       "      <td>0</td>\n",
       "      <td>8.4583</td>\n",
       "      <td>1</td>\n",
       "      <td>0</td>\n",
       "    </tr>\n",
       "    <tr>\n",
       "      <th>6</th>\n",
       "      <td>0</td>\n",
       "      <td>1</td>\n",
       "      <td>0</td>\n",
       "      <td>54.0</td>\n",
       "      <td>0</td>\n",
       "      <td>0</td>\n",
       "      <td>51.8625</td>\n",
       "      <td>0</td>\n",
       "      <td>0</td>\n",
       "    </tr>\n",
       "    <tr>\n",
       "      <th>7</th>\n",
       "      <td>0</td>\n",
       "      <td>3</td>\n",
       "      <td>0</td>\n",
       "      <td>2.0</td>\n",
       "      <td>3</td>\n",
       "      <td>1</td>\n",
       "      <td>21.0750</td>\n",
       "      <td>0</td>\n",
       "      <td>3</td>\n",
       "    </tr>\n",
       "    <tr>\n",
       "      <th>8</th>\n",
       "      <td>1</td>\n",
       "      <td>3</td>\n",
       "      <td>1</td>\n",
       "      <td>27.0</td>\n",
       "      <td>0</td>\n",
       "      <td>2</td>\n",
       "      <td>11.1333</td>\n",
       "      <td>0</td>\n",
       "      <td>2</td>\n",
       "    </tr>\n",
       "    <tr>\n",
       "      <th>9</th>\n",
       "      <td>1</td>\n",
       "      <td>2</td>\n",
       "      <td>1</td>\n",
       "      <td>14.0</td>\n",
       "      <td>1</td>\n",
       "      <td>0</td>\n",
       "      <td>30.0708</td>\n",
       "      <td>2</td>\n",
       "      <td>2</td>\n",
       "    </tr>\n",
       "    <tr>\n",
       "      <th>10</th>\n",
       "      <td>1</td>\n",
       "      <td>3</td>\n",
       "      <td>1</td>\n",
       "      <td>4.0</td>\n",
       "      <td>1</td>\n",
       "      <td>1</td>\n",
       "      <td>16.7000</td>\n",
       "      <td>0</td>\n",
       "      <td>1</td>\n",
       "    </tr>\n",
       "    <tr>\n",
       "      <th>11</th>\n",
       "      <td>1</td>\n",
       "      <td>1</td>\n",
       "      <td>1</td>\n",
       "      <td>58.0</td>\n",
       "      <td>0</td>\n",
       "      <td>0</td>\n",
       "      <td>26.5500</td>\n",
       "      <td>0</td>\n",
       "      <td>1</td>\n",
       "    </tr>\n",
       "    <tr>\n",
       "      <th>12</th>\n",
       "      <td>0</td>\n",
       "      <td>3</td>\n",
       "      <td>0</td>\n",
       "      <td>20.0</td>\n",
       "      <td>0</td>\n",
       "      <td>0</td>\n",
       "      <td>8.0500</td>\n",
       "      <td>0</td>\n",
       "      <td>0</td>\n",
       "    </tr>\n",
       "    <tr>\n",
       "      <th>13</th>\n",
       "      <td>0</td>\n",
       "      <td>3</td>\n",
       "      <td>0</td>\n",
       "      <td>39.0</td>\n",
       "      <td>1</td>\n",
       "      <td>5</td>\n",
       "      <td>31.2750</td>\n",
       "      <td>0</td>\n",
       "      <td>0</td>\n",
       "    </tr>\n",
       "    <tr>\n",
       "      <th>14</th>\n",
       "      <td>0</td>\n",
       "      <td>3</td>\n",
       "      <td>1</td>\n",
       "      <td>14.0</td>\n",
       "      <td>0</td>\n",
       "      <td>0</td>\n",
       "      <td>7.8542</td>\n",
       "      <td>0</td>\n",
       "      <td>1</td>\n",
       "    </tr>\n",
       "    <tr>\n",
       "      <th>15</th>\n",
       "      <td>1</td>\n",
       "      <td>2</td>\n",
       "      <td>1</td>\n",
       "      <td>55.0</td>\n",
       "      <td>0</td>\n",
       "      <td>0</td>\n",
       "      <td>16.0000</td>\n",
       "      <td>0</td>\n",
       "      <td>2</td>\n",
       "    </tr>\n",
       "    <tr>\n",
       "      <th>16</th>\n",
       "      <td>0</td>\n",
       "      <td>3</td>\n",
       "      <td>0</td>\n",
       "      <td>2.0</td>\n",
       "      <td>4</td>\n",
       "      <td>1</td>\n",
       "      <td>29.1250</td>\n",
       "      <td>1</td>\n",
       "      <td>3</td>\n",
       "    </tr>\n",
       "    <tr>\n",
       "      <th>17</th>\n",
       "      <td>1</td>\n",
       "      <td>2</td>\n",
       "      <td>0</td>\n",
       "      <td>29.0</td>\n",
       "      <td>0</td>\n",
       "      <td>0</td>\n",
       "      <td>13.0000</td>\n",
       "      <td>0</td>\n",
       "      <td>0</td>\n",
       "    </tr>\n",
       "    <tr>\n",
       "      <th>18</th>\n",
       "      <td>0</td>\n",
       "      <td>3</td>\n",
       "      <td>1</td>\n",
       "      <td>31.0</td>\n",
       "      <td>1</td>\n",
       "      <td>0</td>\n",
       "      <td>18.0000</td>\n",
       "      <td>0</td>\n",
       "      <td>2</td>\n",
       "    </tr>\n",
       "    <tr>\n",
       "      <th>19</th>\n",
       "      <td>1</td>\n",
       "      <td>3</td>\n",
       "      <td>1</td>\n",
       "      <td>35.5</td>\n",
       "      <td>0</td>\n",
       "      <td>0</td>\n",
       "      <td>7.2250</td>\n",
       "      <td>2</td>\n",
       "      <td>2</td>\n",
       "    </tr>\n",
       "  </tbody>\n",
       "</table>\n",
       "</div>"
      ],
      "text/plain": [
       "    Survived  Pclass  Sex   Age  SibSp  Parch     Fare  Embarked  TitleEncode\n",
       "0          0       3    0  22.0      1      0   7.2500         0            0\n",
       "1          1       1    1  38.0      1      0  71.2833         2            2\n",
       "2          1       3    1  26.0      0      0   7.9250         0            1\n",
       "3          1       1    1  35.0      1      0  53.1000         0            2\n",
       "4          0       3    0  35.0      0      0   8.0500         0            0\n",
       "5          0       3    0  29.0      0      0   8.4583         1            0\n",
       "6          0       1    0  54.0      0      0  51.8625         0            0\n",
       "7          0       3    0   2.0      3      1  21.0750         0            3\n",
       "8          1       3    1  27.0      0      2  11.1333         0            2\n",
       "9          1       2    1  14.0      1      0  30.0708         2            2\n",
       "10         1       3    1   4.0      1      1  16.7000         0            1\n",
       "11         1       1    1  58.0      0      0  26.5500         0            1\n",
       "12         0       3    0  20.0      0      0   8.0500         0            0\n",
       "13         0       3    0  39.0      1      5  31.2750         0            0\n",
       "14         0       3    1  14.0      0      0   7.8542         0            1\n",
       "15         1       2    1  55.0      0      0  16.0000         0            2\n",
       "16         0       3    0   2.0      4      1  29.1250         1            3\n",
       "17         1       2    0  29.0      0      0  13.0000         0            0\n",
       "18         0       3    1  31.0      1      0  18.0000         0            2\n",
       "19         1       3    1  35.5      0      0   7.2250         2            2"
      ]
     },
     "execution_count": 62,
     "metadata": {},
     "output_type": "execute_result"
    }
   ],
   "source": [
    "# titanic.head(20)\n",
    "titanic.head(20)"
   ]
  },
  {
   "cell_type": "code",
   "execution_count": 63,
   "id": "confident-catalyst",
   "metadata": {},
   "outputs": [
    {
     "data": {
      "text/plain": [
       "(1309, 9)"
      ]
     },
     "execution_count": 63,
     "metadata": {},
     "output_type": "execute_result"
    }
   ],
   "source": [
    "# titanic.shape\n",
    "titanic.shape"
   ]
  },
  {
   "cell_type": "markdown",
   "id": "proved-enforcement",
   "metadata": {},
   "source": [
    "# Model Training"
   ]
  },
  {
   "cell_type": "code",
   "execution_count": 64,
   "id": "convertible-yorkshire",
   "metadata": {},
   "outputs": [],
   "source": [
    "# Create X(feature matrix)\n",
    "# X = titanic.drop(\"Survived\", axis=1)\n",
    "X = titanic.drop(\"Survived\", axis=1)\n",
    "\n",
    "# Create y (labels)\n",
    "# y = titanic[\"Survived\"]\n",
    "y = titanic[\"Survived\"]"
   ]
  },
  {
   "cell_type": "code",
   "execution_count": 65,
   "id": "wicked-server",
   "metadata": {},
   "outputs": [
    {
     "data": {
      "text/plain": [
       "((1309, 8), (1309,))"
      ]
     },
     "execution_count": 65,
     "metadata": {},
     "output_type": "execute_result"
    }
   ],
   "source": [
    "X.shape, y.shape"
   ]
  },
  {
   "cell_type": "code",
   "execution_count": 66,
   "id": "mechanical-bennett",
   "metadata": {},
   "outputs": [
    {
     "data": {
      "text/plain": [
       "Pclass           int64\n",
       "Sex              int64\n",
       "Age            float64\n",
       "SibSp            int64\n",
       "Parch            int64\n",
       "Fare           float64\n",
       "Embarked         int64\n",
       "TitleEncode      int64\n",
       "dtype: object"
      ]
     },
     "execution_count": 66,
     "metadata": {},
     "output_type": "execute_result"
    }
   ],
   "source": [
    "X.dtypes"
   ]
  },
  {
   "cell_type": "code",
   "execution_count": 67,
   "id": "herbal-television",
   "metadata": {},
   "outputs": [
    {
     "data": {
      "text/plain": [
       "{'bootstrap': True,\n",
       " 'ccp_alpha': 0.0,\n",
       " 'class_weight': None,\n",
       " 'criterion': 'gini',\n",
       " 'max_depth': None,\n",
       " 'max_features': 'auto',\n",
       " 'max_leaf_nodes': None,\n",
       " 'max_samples': None,\n",
       " 'min_impurity_decrease': 0.0,\n",
       " 'min_impurity_split': None,\n",
       " 'min_samples_leaf': 1,\n",
       " 'min_samples_split': 2,\n",
       " 'min_weight_fraction_leaf': 0.0,\n",
       " 'n_estimators': 100,\n",
       " 'n_jobs': None,\n",
       " 'oob_score': False,\n",
       " 'random_state': None,\n",
       " 'verbose': 0,\n",
       " 'warm_start': False}"
      ]
     },
     "execution_count": 67,
     "metadata": {},
     "output_type": "execute_result"
    }
   ],
   "source": [
    "from sklearn.ensemble import RandomForestClassifier\n",
    "clf = RandomForestClassifier(n_estimators=100)\n",
    "\n",
    "# We'll keep the default hyperparameters\n",
    "clf.get_params()"
   ]
  },
  {
   "cell_type": "code",
   "execution_count": 68,
   "id": "beginning-helena",
   "metadata": {},
   "outputs": [],
   "source": [
    "# Importing Classifier Modules\n",
    "from sklearn.linear_model import LogisticRegression\n",
    "from sklearn.svm import SVC, LinearSVC\n",
    "from sklearn.neighbors import KNeighborsClassifier\n",
    "from sklearn.tree import DecisionTreeClassifier\n",
    "from sklearn.ensemble import RandomForestClassifier\n",
    "from sklearn.naive_bayes import GaussianNB\n",
    "from sklearn.linear_model import Perceptron\n",
    "from sklearn.linear_model import SGDClassifier\n",
    "from sklearn.model_selection import train_test_split"
   ]
  },
  {
   "cell_type": "code",
   "execution_count": 69,
   "id": "personalized-video",
   "metadata": {},
   "outputs": [],
   "source": [
    "X_train, X_test, y_train, y_test = train_test_split(X, y, test_size=0.2)"
   ]
  },
  {
   "cell_type": "code",
   "execution_count": 70,
   "id": "quick-burning",
   "metadata": {},
   "outputs": [
    {
     "name": "stdout",
     "output_type": "stream",
     "text": [
      "67.24\n"
     ]
    }
   ],
   "source": [
    "#SVM\n",
    "clf = SVC()\n",
    "clf.fit(X_train, y_train)\n",
    "y_pred_svc = clf.predict(X_test)\n",
    "acc_svc = round(clf.score(X_train, y_train) * 100, 2)\n",
    "print (acc_svc)"
   ]
  },
  {
   "cell_type": "code",
   "execution_count": 71,
   "id": "entire-processing",
   "metadata": {},
   "outputs": [
    {
     "name": "stdout",
     "output_type": "stream",
     "text": [
      "82.43\n"
     ]
    },
    {
     "name": "stderr",
     "output_type": "stream",
     "text": [
      "C:\\Users\\tanzi\\anaconda3\\lib\\site-packages\\sklearn\\svm\\_base.py:976: ConvergenceWarning: Liblinear failed to converge, increase the number of iterations.\n",
      "  warnings.warn(\"Liblinear failed to converge, increase \"\n"
     ]
    }
   ],
   "source": [
    "clf = LinearSVC()\n",
    "clf.fit(X_train, y_train)\n",
    "y_pred_linear_svc = clf.predict(X_test)\n",
    "acc_linear_svc = round(clf.score(X_train, y_train) * 100, 2)\n",
    "print (acc_linear_svc)"
   ]
  },
  {
   "cell_type": "code",
   "execution_count": 72,
   "id": "bored-marble",
   "metadata": {},
   "outputs": [
    {
     "name": "stdout",
     "output_type": "stream",
     "text": [
      "84.15\n"
     ]
    }
   ],
   "source": [
    "clf = KNeighborsClassifier(n_neighbors = 3)\n",
    "clf.fit(X_train, y_train)\n",
    "y_pred_knn = clf.predict(X_test)\n",
    "acc_knn = round(clf.score(X_train, y_train) * 100, 2)\n",
    "print (acc_knn)"
   ]
  },
  {
   "cell_type": "code",
   "execution_count": 73,
   "id": "lucky-tissue",
   "metadata": {},
   "outputs": [
    {
     "name": "stdout",
     "output_type": "stream",
     "text": [
      "98.19\n"
     ]
    }
   ],
   "source": [
    "clf = DecisionTreeClassifier()\n",
    "clf.fit(X_train, y_train)\n",
    "y_pred_decision_tree = clf.predict(X_test)\n",
    "acc_decision_tree = round(clf.score(X_train, y_train) * 100, 2)\n",
    "print (acc_decision_tree)"
   ]
  },
  {
   "cell_type": "code",
   "execution_count": 74,
   "id": "hourly-briefing",
   "metadata": {},
   "outputs": [
    {
     "name": "stdout",
     "output_type": "stream",
     "text": [
      "98.19\n"
     ]
    }
   ],
   "source": [
    "clf = RandomForestClassifier(n_estimators=100)\n",
    "clf.fit(X_train, y_train)\n",
    "y_pred_random_forest = clf.predict(X_test)\n",
    "acc_random_forest = round(clf.score(X_train, y_train) * 100, 2)\n",
    "print (acc_random_forest)"
   ]
  },
  {
   "cell_type": "code",
   "execution_count": 75,
   "id": "elementary-western",
   "metadata": {},
   "outputs": [
    {
     "name": "stdout",
     "output_type": "stream",
     "text": [
      "83.38\n"
     ]
    }
   ],
   "source": [
    "clf = GaussianNB()\n",
    "clf.fit(X_train, y_train)\n",
    "y_pred_gnb = clf.predict(X_test)\n",
    "acc_gnb = round(clf.score(X_train, y_train) * 100, 2)\n",
    "print (acc_gnb)"
   ]
  },
  {
   "cell_type": "code",
   "execution_count": 76,
   "id": "faced-editor",
   "metadata": {},
   "outputs": [
    {
     "name": "stdout",
     "output_type": "stream",
     "text": [
      "61.22\n"
     ]
    }
   ],
   "source": [
    "clf = Perceptron(max_iter=5, tol=None)\n",
    "clf.fit(X_train, y_train)\n",
    "y_pred_perceptron = clf.predict(X_test)\n",
    "acc_perceptron = round(clf.score(X_train, y_train) * 100, 2)\n",
    "print (acc_perceptron)"
   ]
  },
  {
   "cell_type": "code",
   "execution_count": 77,
   "id": "miniature-abuse",
   "metadata": {},
   "outputs": [
    {
     "name": "stdout",
     "output_type": "stream",
     "text": [
      "49.95\n"
     ]
    }
   ],
   "source": [
    "clf = SGDClassifier(max_iter=5, tol=None)\n",
    "clf.fit(X_train, y_train)\n",
    "y_pred_sgd = clf.predict(X_test)\n",
    "acc_sgd = round(clf.score(X_train, y_train) * 100, 2)\n",
    "print (acc_sgd)"
   ]
  },
  {
   "cell_type": "code",
   "execution_count": 78,
   "id": "second-cache",
   "metadata": {
    "scrolled": true
   },
   "outputs": [
    {
     "name": "stdout",
     "output_type": "stream",
     "text": [
      "Accuracy: 98 % \n",
      "\n",
      "Confusion Matrix in Numbers\n",
      "[[637   4]\n",
      " [ 15 391]]\n",
      "\n",
      "Confusion Matrix in Percentage\n",
      "[[0.99 0.01]\n",
      " [0.04 0.96]]\n",
      "\n"
     ]
    },
    {
     "data": {
      "text/plain": [
       "<AxesSubplot:>"
      ]
     },
     "execution_count": 78,
     "metadata": {},
     "output_type": "execute_result"
    },
    {
     "data": {
      "image/png": "[encoded data removed]",
      "text/plain": [
       "<Figure size 1080x360 with 4 Axes>"
      ]
     },
     "metadata": {
      "needs_background": "light"
     },
     "output_type": "display_data"
    }
   ],
   "source": [
    "from sklearn.metrics import confusion_matrix\n",
    "import itertools\n",
    "\n",
    "clf = RandomForestClassifier(n_estimators=100)\n",
    "clf.fit(X_train, y_train)\n",
    "y_pred_random_forest_training_set = clf.predict(X_train)\n",
    "acc_random_forest = round(clf.score(X_train, y_train) * 100, 2)\n",
    "print (\"Accuracy: %i %% \\n\"%acc_random_forest)\n",
    "\n",
    "class_names = ['Survived', 'Not Survived']\n",
    "\n",
    "# Compute confusion matrix\n",
    "cnf_matrix = confusion_matrix(y_train, y_pred_random_forest_training_set)\n",
    "np.set_printoptions(precision=2)\n",
    "\n",
    "print ('Confusion Matrix in Numbers')\n",
    "print (cnf_matrix)\n",
    "print ('')\n",
    "\n",
    "cnf_matrix_percent = cnf_matrix.astype('float') / cnf_matrix.sum(axis=1)[:, np.newaxis]\n",
    "\n",
    "print ('Confusion Matrix in Percentage')\n",
    "print (cnf_matrix_percent)\n",
    "print ('')\n",
    "\n",
    "true_class_names = ['True Survived', 'True Not Survived']\n",
    "predicted_class_names = ['Predicted Survived', 'Predicted Not Survived']\n",
    "\n",
    "df_cnf_matrix = pd.DataFrame(cnf_matrix, \n",
    "                             index = true_class_names,\n",
    "                             columns = predicted_class_names)\n",
    "\n",
    "df_cnf_matrix_percent = pd.DataFrame(cnf_matrix_percent, \n",
    "                                     index = true_class_names,\n",
    "                                     columns = predicted_class_names)\n",
    "\n",
    "plt.figure(figsize = (15,5))\n",
    "\n",
    "plt.subplot(121)\n",
    "sns.heatmap(df_cnf_matrix, annot=True, fmt='d')\n",
    "\n",
    "plt.subplot(122)\n",
    "sns.heatmap(df_cnf_matrix_percent, annot=True)"
   ]
  },
  {
   "cell_type": "code",
   "execution_count": 79,
   "id": "modular-surge",
   "metadata": {},
   "outputs": [
    {
     "data": {
      "text/html": [
       "<div>\n",
       "<style scoped>\n",
       "    .dataframe tbody tr th:only-of-type {\n",
       "        vertical-align: middle;\n",
       "    }\n",
       "\n",
       "    .dataframe tbody tr th {\n",
       "        vertical-align: top;\n",
       "    }\n",
       "\n",
       "    .dataframe thead th {\n",
       "        text-align: right;\n",
       "    }\n",
       "</style>\n",
       "<table border=\"1\" class=\"dataframe\">\n",
       "  <thead>\n",
       "    <tr style=\"text-align: right;\">\n",
       "      <th></th>\n",
       "      <th>Model</th>\n",
       "      <th>Score</th>\n",
       "    </tr>\n",
       "  </thead>\n",
       "  <tbody>\n",
       "    <tr>\n",
       "      <th>3</th>\n",
       "      <td>Decision Tree</td>\n",
       "      <td>98.19</td>\n",
       "    </tr>\n",
       "    <tr>\n",
       "      <th>4</th>\n",
       "      <td>Random Forest</td>\n",
       "      <td>98.19</td>\n",
       "    </tr>\n",
       "    <tr>\n",
       "      <th>2</th>\n",
       "      <td>KNN</td>\n",
       "      <td>84.15</td>\n",
       "    </tr>\n",
       "    <tr>\n",
       "      <th>5</th>\n",
       "      <td>Naive Bayes</td>\n",
       "      <td>83.38</td>\n",
       "    </tr>\n",
       "    <tr>\n",
       "      <th>1</th>\n",
       "      <td>Linear SVC</td>\n",
       "      <td>82.43</td>\n",
       "    </tr>\n",
       "    <tr>\n",
       "      <th>0</th>\n",
       "      <td>Support Vector Machines</td>\n",
       "      <td>67.24</td>\n",
       "    </tr>\n",
       "    <tr>\n",
       "      <th>6</th>\n",
       "      <td>Perceptron</td>\n",
       "      <td>61.22</td>\n",
       "    </tr>\n",
       "    <tr>\n",
       "      <th>7</th>\n",
       "      <td>Stochastic Gradient Decent</td>\n",
       "      <td>49.95</td>\n",
       "    </tr>\n",
       "  </tbody>\n",
       "</table>\n",
       "</div>"
      ],
      "text/plain": [
       "                        Model  Score\n",
       "3               Decision Tree  98.19\n",
       "4               Random Forest  98.19\n",
       "2                         KNN  84.15\n",
       "5                 Naive Bayes  83.38\n",
       "1                  Linear SVC  82.43\n",
       "0     Support Vector Machines  67.24\n",
       "6                  Perceptron  61.22\n",
       "7  Stochastic Gradient Decent  49.95"
      ]
     },
     "execution_count": 79,
     "metadata": {},
     "output_type": "execute_result"
    }
   ],
   "source": [
    "models = pd.DataFrame({\n",
    "    'Model': ['Support Vector Machines', 'Linear SVC', \n",
    "              'KNN', 'Decision Tree', 'Random Forest', 'Naive Bayes', \n",
    "              'Perceptron', 'Stochastic Gradient Decent'],\n",
    "    \n",
    "    'Score': [acc_svc, acc_linear_svc, \n",
    "              acc_knn,  acc_decision_tree, acc_random_forest, acc_gnb, \n",
    "              acc_perceptron, acc_sgd]\n",
    "    })\n",
    "\n",
    "models.sort_values(by='Score', ascending=False)"
   ]
  },
  {
   "cell_type": "code",
   "execution_count": 80,
   "id": "equivalent-environment",
   "metadata": {},
   "outputs": [],
   "source": [
    "clf.fit(X_train, y_train);"
   ]
  },
  {
   "cell_type": "code",
   "execution_count": 81,
   "id": "subjective-roads",
   "metadata": {},
   "outputs": [
    {
     "data": {
      "text/html": [
       "<div>\n",
       "<style scoped>\n",
       "    .dataframe tbody tr th:only-of-type {\n",
       "        vertical-align: middle;\n",
       "    }\n",
       "\n",
       "    .dataframe tbody tr th {\n",
       "        vertical-align: top;\n",
       "    }\n",
       "\n",
       "    .dataframe thead th {\n",
       "        text-align: right;\n",
       "    }\n",
       "</style>\n",
       "<table border=\"1\" class=\"dataframe\">\n",
       "  <thead>\n",
       "    <tr style=\"text-align: right;\">\n",
       "      <th></th>\n",
       "      <th>Pclass</th>\n",
       "      <th>Sex</th>\n",
       "      <th>Age</th>\n",
       "      <th>SibSp</th>\n",
       "      <th>Parch</th>\n",
       "      <th>Fare</th>\n",
       "      <th>Embarked</th>\n",
       "      <th>TitleEncode</th>\n",
       "    </tr>\n",
       "  </thead>\n",
       "  <tbody>\n",
       "    <tr>\n",
       "      <th>94</th>\n",
       "      <td>3</td>\n",
       "      <td>0</td>\n",
       "      <td>59.00</td>\n",
       "      <td>0</td>\n",
       "      <td>0</td>\n",
       "      <td>7.2500</td>\n",
       "      <td>0</td>\n",
       "      <td>0</td>\n",
       "    </tr>\n",
       "    <tr>\n",
       "      <th>395</th>\n",
       "      <td>3</td>\n",
       "      <td>0</td>\n",
       "      <td>22.00</td>\n",
       "      <td>0</td>\n",
       "      <td>0</td>\n",
       "      <td>7.7958</td>\n",
       "      <td>0</td>\n",
       "      <td>0</td>\n",
       "    </tr>\n",
       "    <tr>\n",
       "      <th>1165</th>\n",
       "      <td>3</td>\n",
       "      <td>0</td>\n",
       "      <td>29.00</td>\n",
       "      <td>0</td>\n",
       "      <td>0</td>\n",
       "      <td>7.2250</td>\n",
       "      <td>2</td>\n",
       "      <td>0</td>\n",
       "    </tr>\n",
       "    <tr>\n",
       "      <th>1099</th>\n",
       "      <td>1</td>\n",
       "      <td>1</td>\n",
       "      <td>33.00</td>\n",
       "      <td>0</td>\n",
       "      <td>0</td>\n",
       "      <td>27.7208</td>\n",
       "      <td>2</td>\n",
       "      <td>1</td>\n",
       "    </tr>\n",
       "    <tr>\n",
       "      <th>1092</th>\n",
       "      <td>3</td>\n",
       "      <td>0</td>\n",
       "      <td>0.33</td>\n",
       "      <td>0</td>\n",
       "      <td>2</td>\n",
       "      <td>14.4000</td>\n",
       "      <td>0</td>\n",
       "      <td>3</td>\n",
       "    </tr>\n",
       "    <tr>\n",
       "      <th>...</th>\n",
       "      <td>...</td>\n",
       "      <td>...</td>\n",
       "      <td>...</td>\n",
       "      <td>...</td>\n",
       "      <td>...</td>\n",
       "      <td>...</td>\n",
       "      <td>...</td>\n",
       "      <td>...</td>\n",
       "    </tr>\n",
       "    <tr>\n",
       "      <th>1090</th>\n",
       "      <td>3</td>\n",
       "      <td>1</td>\n",
       "      <td>35.50</td>\n",
       "      <td>0</td>\n",
       "      <td>0</td>\n",
       "      <td>8.1125</td>\n",
       "      <td>0</td>\n",
       "      <td>2</td>\n",
       "    </tr>\n",
       "    <tr>\n",
       "      <th>932</th>\n",
       "      <td>1</td>\n",
       "      <td>0</td>\n",
       "      <td>29.00</td>\n",
       "      <td>0</td>\n",
       "      <td>0</td>\n",
       "      <td>26.5500</td>\n",
       "      <td>0</td>\n",
       "      <td>0</td>\n",
       "    </tr>\n",
       "    <tr>\n",
       "      <th>1097</th>\n",
       "      <td>3</td>\n",
       "      <td>1</td>\n",
       "      <td>35.00</td>\n",
       "      <td>0</td>\n",
       "      <td>0</td>\n",
       "      <td>7.7500</td>\n",
       "      <td>1</td>\n",
       "      <td>1</td>\n",
       "    </tr>\n",
       "    <tr>\n",
       "      <th>389</th>\n",
       "      <td>2</td>\n",
       "      <td>1</td>\n",
       "      <td>17.00</td>\n",
       "      <td>0</td>\n",
       "      <td>0</td>\n",
       "      <td>12.0000</td>\n",
       "      <td>2</td>\n",
       "      <td>1</td>\n",
       "    </tr>\n",
       "    <tr>\n",
       "      <th>1251</th>\n",
       "      <td>3</td>\n",
       "      <td>0</td>\n",
       "      <td>14.50</td>\n",
       "      <td>8</td>\n",
       "      <td>2</td>\n",
       "      <td>69.5500</td>\n",
       "      <td>0</td>\n",
       "      <td>3</td>\n",
       "    </tr>\n",
       "  </tbody>\n",
       "</table>\n",
       "<p>1047 rows × 8 columns</p>\n",
       "</div>"
      ],
      "text/plain": [
       "      Pclass  Sex    Age  SibSp  Parch     Fare  Embarked  TitleEncode\n",
       "94         3    0  59.00      0      0   7.2500         0            0\n",
       "395        3    0  22.00      0      0   7.7958         0            0\n",
       "1165       3    0  29.00      0      0   7.2250         2            0\n",
       "1099       1    1  33.00      0      0  27.7208         2            1\n",
       "1092       3    0   0.33      0      2  14.4000         0            3\n",
       "...      ...  ...    ...    ...    ...      ...       ...          ...\n",
       "1090       3    1  35.50      0      0   8.1125         0            2\n",
       "932        1    0  29.00      0      0  26.5500         0            0\n",
       "1097       3    1  35.00      0      0   7.7500         1            1\n",
       "389        2    1  17.00      0      0  12.0000         2            1\n",
       "1251       3    0  14.50      8      2  69.5500         0            3\n",
       "\n",
       "[1047 rows x 8 columns]"
      ]
     },
     "execution_count": 81,
     "metadata": {},
     "output_type": "execute_result"
    }
   ],
   "source": [
    "X_train"
   ]
  },
  {
   "cell_type": "code",
   "execution_count": 82,
   "id": "outdoor-rachel",
   "metadata": {},
   "outputs": [
    {
     "data": {
      "text/plain": [
       "array([0, 1, 0, 1, 0, 0, 0, 0, 0, 0, 0, 1, 0, 1, 0, 1, 0, 1, 0, 0, 0, 1,\n",
       "       0, 0, 0, 1, 1, 0, 0, 0, 0, 1, 0, 1, 0, 0, 0, 0, 1, 0, 0, 0, 1, 1,\n",
       "       1, 0, 0, 0, 0, 1, 1, 0, 0, 1, 0, 0, 0, 0, 0, 0, 0, 0, 1, 1, 1, 1,\n",
       "       0, 1, 0, 0, 1, 0, 0, 0, 0, 1, 0, 0, 1, 0, 0, 0, 1, 0, 0, 0, 0, 0,\n",
       "       0, 1, 1, 1, 1, 0, 0, 0, 0, 0, 0, 0, 0, 0, 1, 1, 0, 0, 0, 0, 0, 1,\n",
       "       0, 0, 0, 0, 0, 0, 1, 1, 0, 1, 0, 0, 0, 1, 0, 0, 0, 1, 0, 0, 0, 0,\n",
       "       0, 1, 1, 0, 1, 0, 0, 0, 0, 0, 0, 0, 0, 0, 0, 1, 0, 0, 0, 0, 1, 1,\n",
       "       0, 0, 0, 1, 0, 0, 1, 0, 1, 1, 1, 1, 0, 0, 1, 1, 1, 0, 1, 0, 1, 0,\n",
       "       0, 0, 0, 0, 1, 1, 0, 0, 0, 1, 0, 0, 0, 1, 1, 1, 0, 1, 1, 0, 0, 0,\n",
       "       0, 0, 0, 0, 0, 0, 0, 0, 0, 0, 0, 0, 0, 0, 1, 0, 0, 0, 0, 0, 1, 0,\n",
       "       1, 0, 1, 0, 0, 1, 0, 0, 0, 0, 0, 1, 1, 0, 0, 0, 0, 0, 0, 0, 1, 1,\n",
       "       0, 1, 0, 0, 0, 1, 1, 0, 1, 1, 1, 1, 0, 0, 0, 1, 1, 1, 0, 0],\n",
       "      dtype=int64)"
      ]
     },
     "execution_count": 82,
     "metadata": {},
     "output_type": "execute_result"
    }
   ],
   "source": [
    "y_preds = clf.predict(X_test)\n",
    "y_preds"
   ]
  },
  {
   "cell_type": "code",
   "execution_count": 83,
   "id": "impossible-sister",
   "metadata": {},
   "outputs": [
    {
     "data": {
      "text/plain": [
       "693     0\n",
       "137     0\n",
       "488     0\n",
       "865     1\n",
       "926     0\n",
       "       ..\n",
       "431     1\n",
       "1085    0\n",
       "306     1\n",
       "845     0\n",
       "265     0\n",
       "Name: Survived, Length: 262, dtype: int64"
      ]
     },
     "execution_count": 83,
     "metadata": {},
     "output_type": "execute_result"
    }
   ],
   "source": [
    "y_test"
   ]
  },
  {
   "cell_type": "code",
   "execution_count": 84,
   "id": "transparent-barrier",
   "metadata": {},
   "outputs": [
    {
     "data": {
      "text/plain": [
       "0.9808978032473734"
      ]
     },
     "execution_count": 84,
     "metadata": {},
     "output_type": "execute_result"
    }
   ],
   "source": [
    "clf.score(X_train, y_train)"
   ]
  },
  {
   "cell_type": "code",
   "execution_count": 85,
   "id": "republican-covering",
   "metadata": {},
   "outputs": [
    {
     "data": {
      "text/plain": [
       "0.8435114503816794"
      ]
     },
     "execution_count": 85,
     "metadata": {},
     "output_type": "execute_result"
    }
   ],
   "source": [
    "clf.score(X_test, y_test)"
   ]
  },
  {
   "cell_type": "code",
   "execution_count": 86,
   "id": "respiratory-growth",
   "metadata": {},
   "outputs": [
    {
     "name": "stdout",
     "output_type": "stream",
     "text": [
      "              precision    recall  f1-score   support\n",
      "\n",
      "           0       0.87      0.90      0.88       174\n",
      "           1       0.78      0.74      0.76        88\n",
      "\n",
      "    accuracy                           0.84       262\n",
      "   macro avg       0.83      0.82      0.82       262\n",
      "weighted avg       0.84      0.84      0.84       262\n",
      "\n"
     ]
    }
   ],
   "source": [
    "from sklearn.metrics import classification_report, confusion_matrix, accuracy_score\n",
    "\n",
    "print(classification_report(y_test, y_preds))"
   ]
  },
  {
   "cell_type": "code",
   "execution_count": 87,
   "id": "european-accountability",
   "metadata": {},
   "outputs": [
    {
     "data": {
      "text/plain": [
       "array([[156,  18],\n",
       "       [ 23,  65]], dtype=int64)"
      ]
     },
     "execution_count": 87,
     "metadata": {},
     "output_type": "execute_result"
    }
   ],
   "source": [
    "confusion_matrix(y_test, y_preds)"
   ]
  },
  {
   "cell_type": "code",
   "execution_count": 88,
   "id": "crazy-coach",
   "metadata": {},
   "outputs": [
    {
     "data": {
      "text/plain": [
       "0.8435114503816794"
      ]
     },
     "execution_count": 88,
     "metadata": {},
     "output_type": "execute_result"
    }
   ],
   "source": [
    "accuracy_score(y_test, y_preds)"
   ]
  },
  {
   "cell_type": "code",
   "execution_count": 91,
   "id": "colonial-diary",
   "metadata": {},
   "outputs": [
    {
     "name": "stdout",
     "output_type": "stream",
     "text": [
      "Trying model with 10 estimators...\n",
      "Model accuracy on test set: 82.82%\n",
      "\n",
      "Trying model with 20 estimators...\n",
      "Model accuracy on test set: 82.44%\n",
      "\n",
      "Trying model with 30 estimators...\n",
      "Model accuracy on test set: 83.97%\n",
      "\n",
      "Trying model with 40 estimators...\n",
      "Model accuracy on test set: 84.73%\n",
      "\n",
      "Trying model with 50 estimators...\n",
      "Model accuracy on test set: 83.59%\n",
      "\n",
      "Trying model with 60 estimators...\n",
      "Model accuracy on test set: 83.59%\n",
      "\n",
      "Trying model with 70 estimators...\n",
      "Model accuracy on test set: 85.50%\n",
      "\n",
      "Trying model with 80 estimators...\n",
      "Model accuracy on test set: 82.82%\n",
      "\n",
      "Trying model with 90 estimators...\n",
      "Model accuracy on test set: 84.35%\n",
      "\n",
      "Trying model with 100 estimators...\n",
      "Model accuracy on test set: 83.97%\n",
      "\n",
      "Trying model with 110 estimators...\n",
      "Model accuracy on test set: 85.50%\n",
      "\n"
     ]
    }
   ],
   "source": [
    "# 5. Improve a model\n",
    "# Try different amount of n_estimators\n",
    "np.random.seed(42)\n",
    "for i in range(10, 120, 10):\n",
    "    print(f\"Trying model with {i} estimators...\")\n",
    "    clf = RandomForestClassifier(n_estimators=i).fit(X_train, y_train)\n",
    "    print(f\"Model accuracy on test set: {clf.score(X_test, y_test) * 100:.2f}%\")\n",
    "    print(\"\")"
   ]
  },
  {
   "cell_type": "code",
   "execution_count": 94,
   "id": "coastal-credits",
   "metadata": {},
   "outputs": [],
   "source": [
    "import pickle\n",
    "\n",
    "pickle.dump(clf, open(\"decision_tree_model_1.pkl\", \"wb\"))"
   ]
  },
  {
   "cell_type": "code",
   "execution_count": 96,
   "id": "spectacular-accounting",
   "metadata": {},
   "outputs": [
    {
     "data": {
      "text/plain": [
       "0.8549618320610687"
      ]
     },
     "execution_count": 96,
     "metadata": {},
     "output_type": "execute_result"
    }
   ],
   "source": [
    "loaded_model = pickle.load(open(\"decision_tree_model_1.pkl\", \"rb\"))\n",
    "loaded_model.score(X_test, y_test)"
   ]
  },
  {
   "cell_type": "code",
   "execution_count": null,
   "id": "medium-prospect",
   "metadata": {},
   "outputs": [],
   "source": []
  },
  {
   "cell_type": "code",
   "execution_count": null,
   "id": "clear-passport",
   "metadata": {},
   "outputs": [],
   "source": []
  },
  {
   "cell_type": "code",
   "execution_count": null,
   "id": "developing-pendant",
   "metadata": {},
   "outputs": [],
   "source": []
  },
  {
   "cell_type": "code",
   "execution_count": null,
   "id": "french-greenhouse",
   "metadata": {},
   "outputs": [],
   "source": []
  },
  {
   "cell_type": "code",
   "execution_count": null,
   "id": "strategic-sapphire",
   "metadata": {},
   "outputs": [],
   "source": []
  }
 ],
 "metadata": {
  "kernelspec": {
   "display_name": "Python 3",
   "language": "python",
   "name": "python3"
  },
  "language_info": {
   "codemirror_mode": {
    "name": "ipython",
    "version": 3
   },
   "file_extension": ".py",
   "mimetype": "text/x-python",
   "name": "python",
   "nbconvert_exporter": "python",
   "pygments_lexer": "ipython3",
   "version": "3.8.5"
  },
  "toc": {
   "base_numbering": 1,
   "nav_menu": {},
   "number_sections": true,
   "sideBar": true,
   "skip_h1_title": false,
   "title_cell": "Table of Contents",
   "title_sidebar": "Contents",
   "toc_cell": false,
   "toc_position": {},
   "toc_section_display": true,
   "toc_window_display": false
  }
 },
 "nbformat": 4,
 "nbformat_minor": 5
}
