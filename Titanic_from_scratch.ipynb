{
 "cells": [
  {
   "cell_type": "code",
   "execution_count": 155,
   "id": "heard-frost",
   "metadata": {},
   "outputs": [],
   "source": [
    "import pandas as pd\n",
    "import numpy as np\n",
    "import matplotlib.pyplot as plt\n",
    "import seaborn as sns"
   ]
  },
  {
   "cell_type": "code",
   "execution_count": 156,
   "id": "manufactured-coaching",
   "metadata": {},
   "outputs": [],
   "source": [
    "titanic = pd.read_csv(\"./Dataset/titanic.csv\")"
   ]
  },
  {
   "cell_type": "code",
   "execution_count": 157,
   "id": "lovely-integrity",
   "metadata": {},
   "outputs": [
    {
     "data": {
      "text/plain": [
       "(1309, 12)"
      ]
     },
     "execution_count": 157,
     "metadata": {},
     "output_type": "execute_result"
    }
   ],
   "source": [
    "titanic.shape"
   ]
  },
  {
   "cell_type": "code",
   "execution_count": 158,
   "id": "helpful-pepper",
   "metadata": {},
   "outputs": [],
   "source": [
    "# Create X(feature matrix)\n",
    "x = titanic.drop(\"Survived\", axis=1)\n",
    "\n",
    "# Create y (labels)\n",
    "y = titanic[\"Survived\"]"
   ]
  },
  {
   "cell_type": "code",
   "execution_count": 159,
   "id": "fossil-grade",
   "metadata": {},
   "outputs": [
    {
     "data": {
      "text/plain": [
       "((1309, 11), (1309,))"
      ]
     },
     "execution_count": 159,
     "metadata": {},
     "output_type": "execute_result"
    }
   ],
   "source": [
    "x.shape, y.shape"
   ]
  },
  {
   "cell_type": "code",
   "execution_count": 160,
   "id": "underlying-reservation",
   "metadata": {},
   "outputs": [
    {
     "data": {
      "text/plain": [
       "PassengerId       0\n",
       "Pclass            0\n",
       "Name              0\n",
       "Sex               0\n",
       "Age             263\n",
       "SibSp             0\n",
       "Parch             0\n",
       "Ticket            0\n",
       "Fare              1\n",
       "Cabin          1014\n",
       "Embarked          2\n",
       "dtype: int64"
      ]
     },
     "execution_count": 160,
     "metadata": {},
     "output_type": "execute_result"
    }
   ],
   "source": [
    "x.isnull().sum()"
   ]
  },
  {
   "cell_type": "code",
   "execution_count": 161,
   "id": "monetary-taxation",
   "metadata": {},
   "outputs": [
    {
     "data": {
      "text/plain": [
       "count    1046.000000\n",
       "mean       29.881138\n",
       "std        14.413493\n",
       "min         0.170000\n",
       "25%        21.000000\n",
       "50%        28.000000\n",
       "75%        39.000000\n",
       "max        80.000000\n",
       "Name: Age, dtype: float64"
      ]
     },
     "execution_count": 161,
     "metadata": {},
     "output_type": "execute_result"
    }
   ],
   "source": [
    "x[\"Age\"].describe()"
   ]
  },
  {
   "cell_type": "code",
   "execution_count": 162,
   "id": "regional-injection",
   "metadata": {},
   "outputs": [
    {
     "data": {
      "image/png": "[encoded data removed]",
      "text/plain": [
       "<Figure size 432x288 with 1 Axes>"
      ]
     },
     "metadata": {
      "needs_background": "light"
     },
     "output_type": "display_data"
    }
   ],
   "source": [
    "x[\"Sex\"].value_counts().plot(kind= \"bar\");"
   ]
  },
  {
   "cell_type": "code",
   "execution_count": 163,
   "id": "lightweight-surprise",
   "metadata": {},
   "outputs": [
    {
     "data": {
      "text/html": [
       "<div>\n",
       "<style scoped>\n",
       "    .dataframe tbody tr th:only-of-type {\n",
       "        vertical-align: middle;\n",
       "    }\n",
       "\n",
       "    .dataframe tbody tr th {\n",
       "        vertical-align: top;\n",
       "    }\n",
       "\n",
       "    .dataframe thead th {\n",
       "        text-align: right;\n",
       "    }\n",
       "</style>\n",
       "<table border=\"1\" class=\"dataframe\">\n",
       "  <thead>\n",
       "    <tr style=\"text-align: right;\">\n",
       "      <th></th>\n",
       "      <th>count</th>\n",
       "      <th>unique</th>\n",
       "      <th>top</th>\n",
       "      <th>freq</th>\n",
       "    </tr>\n",
       "    <tr>\n",
       "      <th>Embarked</th>\n",
       "      <th></th>\n",
       "      <th></th>\n",
       "      <th></th>\n",
       "      <th></th>\n",
       "    </tr>\n",
       "  </thead>\n",
       "  <tbody>\n",
       "    <tr>\n",
       "      <th>C</th>\n",
       "      <td>270</td>\n",
       "      <td>2</td>\n",
       "      <td>male</td>\n",
       "      <td>157</td>\n",
       "    </tr>\n",
       "    <tr>\n",
       "      <th>Q</th>\n",
       "      <td>123</td>\n",
       "      <td>2</td>\n",
       "      <td>male</td>\n",
       "      <td>63</td>\n",
       "    </tr>\n",
       "    <tr>\n",
       "      <th>S</th>\n",
       "      <td>914</td>\n",
       "      <td>2</td>\n",
       "      <td>male</td>\n",
       "      <td>623</td>\n",
       "    </tr>\n",
       "  </tbody>\n",
       "</table>\n",
       "</div>"
      ],
      "text/plain": [
       "         count unique   top freq\n",
       "Embarked                        \n",
       "C          270      2  male  157\n",
       "Q          123      2  male   63\n",
       "S          914      2  male  623"
      ]
     },
     "execution_count": 163,
     "metadata": {},
     "output_type": "execute_result"
    }
   ],
   "source": [
    "# x[x[\"Sex\"] == \"male\"].value_counts()\n",
    "# x[x[\"Sex\"] == \"male\"].describe()\n",
    "# x.groupby(\"Sex\")[\"Age\"].describe()\n",
    "x.groupby(\"Embarked\")[\"Sex\"].describe()\n",
    "\n"
   ]
  },
  {
   "cell_type": "code",
   "execution_count": 164,
   "id": "forward-edward",
   "metadata": {},
   "outputs": [
    {
     "name": "stdout",
     "output_type": "stream",
     "text": [
      "       PassengerId  Pclass         Age       SibSp       Parch        Fare\n",
      "count   179.000000   179.0  151.000000  179.000000  179.000000  179.000000\n",
      "mean    658.687151     1.0   41.029272    0.340782    0.279330   69.888385\n",
      "std     366.797088     0.0   14.578529    0.541597    0.653571   74.079427\n",
      "min       7.000000     1.0    0.920000    0.000000    0.000000    0.000000\n",
      "25%     372.500000     1.0   30.000000    0.000000    0.000000   27.720800\n",
      "50%     648.000000     1.0   42.000000    0.000000    0.000000   49.504200\n",
      "75%     966.000000     1.0   50.000000    1.000000    0.000000   79.200000\n",
      "max    1299.000000     1.0   80.000000    3.000000    4.000000  512.329200\n",
      "       PassengerId  Pclass        Age       SibSp       Parch        Fare\n",
      "count   171.000000   171.0  158.00000  171.000000  171.000000  171.000000\n",
      "mean    695.976608     2.0   30.81538    0.327485    0.192982   19.904946\n",
      "std     391.366775     0.0   13.97740    0.551260    0.488886   14.775149\n",
      "min      18.000000     2.0    0.67000    0.000000    0.000000    0.000000\n",
      "25%     329.500000     2.0   23.00000    0.000000    0.000000   12.350000\n",
      "50%     715.000000     2.0   29.50000    0.000000    0.000000   13.000000\n",
      "75%    1064.000000     2.0   38.75000    1.000000    0.000000   26.000000\n",
      "max    1298.000000     2.0   70.00000    2.000000    2.000000   73.500000\n",
      "       PassengerId  Pclass         Age       SibSp       Parch        Fare\n",
      "count   493.000000   493.0  349.000000  493.000000  493.000000  492.000000\n",
      "mean    645.888438     3.0   25.962264    0.470588    0.255578   12.415462\n",
      "std     372.398027     0.0   11.682415    1.218775    0.788377   11.261638\n",
      "min       1.000000     3.0    0.330000    0.000000    0.000000    0.000000\n",
      "25%     334.000000     3.0   20.000000    0.000000    0.000000    7.750000\n",
      "50%     649.000000     3.0   25.000000    0.000000    0.000000    7.895800\n",
      "75%     954.000000     3.0   32.000000    0.000000    0.000000    9.586450\n",
      "max    1309.000000     3.0   74.000000    8.000000    9.000000   69.550000\n",
      "       PassengerId  Pclass         Age       SibSp       Parch        Fare\n",
      "count   144.000000   144.0  133.000000  144.000000  144.000000  144.000000\n",
      "mean    689.652778     1.0   37.037594    0.555556    0.472222  109.412385\n",
      "std     371.671942     0.0   14.272460    0.666667    0.774998   82.885854\n",
      "min       2.000000     1.0    2.000000    0.000000    0.000000   25.700000\n",
      "25%     337.250000     1.0   24.000000    0.000000    0.000000   55.441700\n",
      "50%     710.000000     1.0   36.000000    0.000000    0.000000   80.929150\n",
      "75%     989.000000     1.0   48.000000    1.000000    1.000000  135.919775\n",
      "max    1306.000000     1.0   76.000000    3.000000    4.000000  512.329200\n",
      "       PassengerId  Pclass         Age       SibSp       Parch        Fare\n",
      "count   106.000000   106.0  103.000000  106.000000  106.000000  106.000000\n",
      "mean    632.188679     2.0   27.499223    0.500000    0.650943   23.234827\n",
      "std     369.440635     0.0   12.911747    0.636209    0.862361   11.239817\n",
      "min      10.000000     2.0    0.920000    0.000000    0.000000   10.500000\n",
      "25%     346.250000     2.0   20.000000    0.000000    0.000000   13.000000\n",
      "50%     589.000000     2.0   28.000000    0.000000    0.000000   23.000000\n",
      "75%     953.750000     2.0   34.000000    1.000000    1.000000   26.250000\n",
      "max    1277.000000     2.0   60.000000    3.000000    3.000000   65.000000\n",
      "       PassengerId  Pclass         Age       SibSp       Parch        Fare\n",
      "count   216.000000   216.0  152.000000  216.000000  216.000000  216.000000\n",
      "mean    628.393519     3.0   22.185329    0.791667    0.731481   15.324250\n",
      "std     397.071568     0.0   12.205254    1.446126    1.262014   11.786512\n",
      "min       3.000000     3.0    0.170000    0.000000    0.000000    6.750000\n",
      "25%     255.750000     3.0   16.000000    0.000000    0.000000    7.775000\n",
      "50%     637.000000     3.0   22.000000    0.000000    0.000000   10.489600\n",
      "75%     979.250000     3.0   30.000000    1.000000    1.000000   17.850000\n",
      "max    1304.000000     3.0   63.000000    8.000000    9.000000   69.550000\n"
     ]
    }
   ],
   "source": [
    "male_1  = x[(x['Pclass']==1) & (x['Sex']==\"male\")].describe()\n",
    "male_2  = x[(x['Pclass']==2) & (x['Sex']==\"male\")].describe()\n",
    "male_3  = x[(x['Pclass']==3) & (x['Sex']==\"male\")].describe()\n",
    "female_1  = x[(x['Pclass']==1) & (x['Sex']==\"female\")].describe()\n",
    "female_2  = x[(x['Pclass']==2) & (x['Sex']==\"female\")].describe()\n",
    "female_3  = x[(x['Pclass']==3) & (x['Sex']==\"female\")].describe()\n",
    "print(male_1)\n",
    "print(male_2)\n",
    "print(male_3)\n",
    "print(female_1)\n",
    "print(female_2)\n",
    "print(female_3)"
   ]
  },
  {
   "cell_type": "code",
   "execution_count": 165,
   "id": "sealed-threshold",
   "metadata": {},
   "outputs": [
    {
     "name": "stdout",
     "output_type": "stream",
     "text": [
      "       PassengerId  Pclass         Age       SibSp       Parch        Fare\n",
      "count   149.000000   149.0  141.000000  149.000000  149.000000  149.000000\n",
      "mean    687.510067     2.0   30.491702    0.342282    0.187919   20.073322\n",
      "std     393.947719     0.0   13.839498    0.566781    0.470324   15.414203\n",
      "min      18.000000     2.0    0.670000    0.000000    0.000000    0.000000\n",
      "25%     318.000000     2.0   23.000000    0.000000    0.000000   11.500000\n",
      "50%     696.000000     2.0   29.000000    0.000000    0.000000   13.000000\n",
      "75%    1072.000000     2.0   39.000000    1.000000    0.000000   26.000000\n",
      "max    1298.000000     2.0   70.000000    2.000000    2.000000   73.500000\n"
     ]
    }
   ],
   "source": [
    "male_S1  = x[(x['Pclass']==1) & (x['Sex']==\"male\") & (x[\"Embarked\"] == \"S\")].describe()\n",
    "male_S2  = x[(x['Pclass']==2) & (x['Sex']==\"male\") & (x[\"Embarked\"] == \"S\")].describe()\n",
    "male_S3  = x[(x['Pclass']==3) & (x['Sex']==\"male\") & (x[\"Embarked\"] == \"S\")].describe()\n",
    "female_S1  = x[(x['Pclass']==1) & (x['Sex']==\"female\") & (x[\"Embarked\"] == \"S\")].describe()\n",
    "female_S2  = x[(x['Pclass']==2) & (x['Sex']==\"female\") & (x[\"Embarked\"] == \"S\")].describe()\n",
    "female_S3  = x[(x['Pclass']==3) & (x['Sex']==\"female\") & (x[\"Embarked\"] == \"S\")].describe()\n",
    "\n",
    "male_Q1  = x[(x['Pclass']==1) & (x['Sex']==\"male\") & (x[\"Embarked\"] == \"Q\")].describe()\n",
    "male_Q2  = x[(x['Pclass']==2) & (x['Sex']==\"male\") & (x[\"Embarked\"] == \"Q\")].describe()\n",
    "male_Q3  = x[(x['Pclass']==3) & (x['Sex']==\"male\") & (x[\"Embarked\"] == \"Q\")].describe()\n",
    "female_Q1  = x[(x['Pclass']==1) & (x['Sex']==\"female\") & (x[\"Embarked\"] == \"Q\")].describe()\n",
    "female_Q2  = x[(x['Pclass']==2) & (x['Sex']==\"female\") & (x[\"Embarked\"] == \"Q\")].describe()\n",
    "female_Q3  = x[(x['Pclass']==3) & (x['Sex']==\"female\") & (x[\"Embarked\"] == \"Q\")].describe()\n",
    "\n",
    "male_C1  = x[(x['Pclass']==1) & (x['Sex']==\"male\") & (x[\"Embarked\"] == \"C\")].describe()\n",
    "male_C2  = x[(x['Pclass']==2) & (x['Sex']==\"male\") & (x[\"Embarked\"] == \"C\")].describe()\n",
    "male_C3  = x[(x['Pclass']==3) & (x['Sex']==\"male\") & (x[\"Embarked\"] == \"C\")].describe()\n",
    "female_C1  = x[(x['Pclass']==1) & (x['Sex']==\"female\") & (x[\"Embarked\"] == \"C\")].describe()\n",
    "female_C2  = x[(x['Pclass']==2) & (x['Sex']==\"female\") & (x[\"Embarked\"] == \"C\")].describe()\n",
    "female_C3  = x[(x['Pclass']==3) & (x['Sex']==\"female\") & (x[\"Embarked\"] == \"C\")].describe()\n",
    "\n",
    "\n",
    "\n",
    "# print(male_S1)\n",
    "print(male_S2)\n",
    "# print(male_S3)\n",
    "# print(female_S1)\n",
    "# print(female_S2)\n",
    "# print(female_S3)\n",
    "\n",
    "# print(male_Q1)\n",
    "# print(male_Q2)\n",
    "# print(male_Q3)\n",
    "# print(female_Q1)\n",
    "# print(female_Q2)\n",
    "# print(female_Q3)\n",
    "\n",
    "# print(male_C1)\n",
    "# print(male_C2)\n",
    "# print(male_C3)\n",
    "# print(female_C1)\n",
    "# print(female_C2)\n",
    "# print(female_C3)"
   ]
  },
  {
   "cell_type": "code",
   "execution_count": 166,
   "id": "naval-angel",
   "metadata": {},
   "outputs": [],
   "source": [
    "\n",
    "x[\"Age\"]  = x[(x['Pclass']==1) & (x['Sex']==\"male\") & (x[\"Embarked\"] == \"S\")].describe()\n",
    "# x[\"Age\"] = x[(x['Pclass']==2) & (x['Sex']==\"male\") & (x[\"Embarked\"] == \"S\")].describe()\n",
    "# x[\"Age\"] = x[(x['Pclass']==3) & (x['Sex']==\"male\") & (x[\"Embarked\"] == \"S\")].describe()\n",
    "# x[\"Age\"] = x[(x['Pclass']==1) & (x['Sex']==\"female\") & (x[\"Embarked\"] == \"S\")].describe()\n",
    "# x[\"Age\"] = x[(x['Pclass']==2) & (x['Sex']==\"female\") & (x[\"Embarked\"] == \"S\")].describe()\n",
    "# x[\"Age\"]  = x[(x['Pclass']==3) & (x['Sex']==\"female\") & (x[\"Embarked\"] == \"S\")].describe()\n",
    "\n",
    "# male_Q1  = x[(x['Pclass']==1) & (x['Sex']==\"male\") & (x[\"Embarked\"] == \"Q\")].describe()\n",
    "# male_Q2  = x[(x['Pclass']==2) & (x['Sex']==\"male\") & (x[\"Embarked\"] == \"Q\")].describe()\n",
    "# male_Q3  = x[(x['Pclass']==3) & (x['Sex']==\"male\") & (x[\"Embarked\"] == \"Q\")].describe()\n",
    "# female_Q1  = x[(x['Pclass']==1) & (x['Sex']==\"female\") & (x[\"Embarked\"] == \"Q\")].describe()\n",
    "# female_Q2  = x[(x['Pclass']==2) & (x['Sex']==\"female\") & (x[\"Embarked\"] == \"Q\")].describe()\n",
    "# female_Q3  = x[(x['Pclass']==3) & (x['Sex']==\"female\") & (x[\"Embarked\"] == \"Q\")].describe()\n",
    "\n",
    "# male_C1  = x[(x['Pclass']==1) & (x['Sex']==\"male\") & (x[\"Embarked\"] == \"C\")].describe()\n",
    "# male_C2  = x[(x['Pclass']==2) & (x['Sex']==\"male\") & (x[\"Embarked\"] == \"C\")].describe()\n",
    "# male_C3  = x[(x['Pclass']==3) & (x['Sex']==\"male\") & (x[\"Embarked\"] == \"C\")].describe()\n",
    "# female_C1  = x[(x['Pclass']==1) & (x['Sex']==\"female\") & (x[\"Embarked\"] == \"C\")].describe()\n",
    "# female_C2  = x[(x['Pclass']==2) & (x['Sex']==\"female\") & (x[\"Embarked\"] == \"C\")].describe()\n",
    "# female_C3  = x[(x['Pclass']==3) & (x['Sex']==\"female\") & (x[\"Embarked\"] == \"C\")].describe()\n"
   ]
  },
  {
   "cell_type": "code",
   "execution_count": 167,
   "id": "proud-madagascar",
   "metadata": {},
   "outputs": [],
   "source": [
    "demo = x[(x['Pclass']==1) & (x['Sex']==\"male\") & (x[\"Embarked\"] == \"S\")]"
   ]
  },
  {
   "cell_type": "code",
   "execution_count": 168,
   "id": "entitled-shade",
   "metadata": {},
   "outputs": [
    {
     "data": {
      "text/plain": [
       "count    0.0\n",
       "mean     NaN\n",
       "std      NaN\n",
       "min      NaN\n",
       "25%      NaN\n",
       "50%      NaN\n",
       "75%      NaN\n",
       "max      NaN\n",
       "Name: Age, dtype: float64"
      ]
     },
     "execution_count": 168,
     "metadata": {},
     "output_type": "execute_result"
    }
   ],
   "source": [
    "demo[\"Age\"].describe()"
   ]
  },
  {
   "cell_type": "code",
   "execution_count": 169,
   "id": "infrared-linux",
   "metadata": {},
   "outputs": [
    {
     "data": {
      "text/plain": [
       "PassengerId                   56\n",
       "Pclass                         1\n",
       "Name           Woolner, Mr. Hugh\n",
       "Sex                         male\n",
       "Age                          NaN\n",
       "SibSp                          0\n",
       "Parch                          0\n",
       "Ticket                     19947\n",
       "Fare                        35.5\n",
       "Cabin                        C52\n",
       "Embarked                       S\n",
       "Name: 55, dtype: object"
      ]
     },
     "execution_count": 169,
     "metadata": {},
     "output_type": "execute_result"
    }
   ],
   "source": [
    "x.iloc[55]"
   ]
  }
 ],
 "metadata": {
  "kernelspec": {
   "display_name": "Python 3",
   "language": "python",
   "name": "python3"
  },
  "language_info": {
   "codemirror_mode": {
    "name": "ipython",
    "version": 3
   },
   "file_extension": ".py",
   "mimetype": "text/x-python",
   "name": "python",
   "nbconvert_exporter": "python",
   "pygments_lexer": "ipython3",
   "version": "3.8.5"
  },
  "toc": {
   "base_numbering": 1,
   "nav_menu": {},
   "number_sections": true,
   "sideBar": true,
   "skip_h1_title": false,
   "title_cell": "Table of Contents",
   "title_sidebar": "Contents",
   "toc_cell": false,
   "toc_position": {},
   "toc_section_display": true,
   "toc_window_display": false
  }
 },
 "nbformat": 4,
 "nbformat_minor": 5
}
