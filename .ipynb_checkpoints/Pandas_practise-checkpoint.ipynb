{
 "cells": [
  {
   "cell_type": "code",
   "execution_count": 54,
   "id": "genetic-discharge",
   "metadata": {},
   "outputs": [],
   "source": [
    "import pandas as pd\n",
    "import numpy as np\n",
    "import matplotlib.pyplot as plt\n",
    "%matplotlib inline\n",
    "import seaborn as sns"
   ]
  },
  {
   "cell_type": "code",
   "execution_count": 55,
   "id": "streaming-sailing",
   "metadata": {},
   "outputs": [],
   "source": [
    "titanic = pd.read_csv(\"./Dataset/titanic _for_pandas.csv\")"
   ]
  },
  {
   "cell_type": "code",
   "execution_count": 56,
   "id": "respective-student",
   "metadata": {},
   "outputs": [
    {
     "data": {
      "text/plain": [
       "(1309, 12)"
      ]
     },
     "execution_count": 56,
     "metadata": {},
     "output_type": "execute_result"
    }
   ],
   "source": [
    "titanic.shape"
   ]
  },
  {
   "cell_type": "code",
   "execution_count": 57,
   "id": "latter-shadow",
   "metadata": {},
   "outputs": [
    {
     "data": {
      "text/plain": [
       "PassengerId       0\n",
       "Survived          0\n",
       "Pclass            0\n",
       "Name              0\n",
       "Sex               0\n",
       "Age             263\n",
       "SibSp             0\n",
       "Parch             0\n",
       "Ticket            0\n",
       "Fare              1\n",
       "Cabin          1014\n",
       "Embarked          2\n",
       "dtype: int64"
      ]
     },
     "execution_count": 57,
     "metadata": {},
     "output_type": "execute_result"
    }
   ],
   "source": [
    "titanic.isnull().sum()"
   ]
  },
  {
   "cell_type": "code",
   "execution_count": 58,
   "id": "outdoor-washer",
   "metadata": {},
   "outputs": [
    {
     "data": {
      "text/html": [
       "<div>\n",
       "<style scoped>\n",
       "    .dataframe tbody tr th:only-of-type {\n",
       "        vertical-align: middle;\n",
       "    }\n",
       "\n",
       "    .dataframe tbody tr th {\n",
       "        vertical-align: top;\n",
       "    }\n",
       "\n",
       "    .dataframe thead tr th {\n",
       "        text-align: left;\n",
       "    }\n",
       "\n",
       "    .dataframe thead tr:last-of-type th {\n",
       "        text-align: right;\n",
       "    }\n",
       "</style>\n",
       "<table border=\"1\" class=\"dataframe\">\n",
       "  <thead>\n",
       "    <tr>\n",
       "      <th></th>\n",
       "      <th></th>\n",
       "      <th colspan=\"8\" halign=\"left\">PassengerId</th>\n",
       "      <th colspan=\"2\" halign=\"left\">Survived</th>\n",
       "      <th>...</th>\n",
       "      <th colspan=\"2\" halign=\"left\">Parch</th>\n",
       "      <th colspan=\"8\" halign=\"left\">Fare</th>\n",
       "    </tr>\n",
       "    <tr>\n",
       "      <th></th>\n",
       "      <th></th>\n",
       "      <th>count</th>\n",
       "      <th>mean</th>\n",
       "      <th>std</th>\n",
       "      <th>min</th>\n",
       "      <th>25%</th>\n",
       "      <th>50%</th>\n",
       "      <th>75%</th>\n",
       "      <th>max</th>\n",
       "      <th>count</th>\n",
       "      <th>mean</th>\n",
       "      <th>...</th>\n",
       "      <th>75%</th>\n",
       "      <th>max</th>\n",
       "      <th>count</th>\n",
       "      <th>mean</th>\n",
       "      <th>std</th>\n",
       "      <th>min</th>\n",
       "      <th>25%</th>\n",
       "      <th>50%</th>\n",
       "      <th>75%</th>\n",
       "      <th>max</th>\n",
       "    </tr>\n",
       "    <tr>\n",
       "      <th>Sex</th>\n",
       "      <th>Age</th>\n",
       "      <th></th>\n",
       "      <th></th>\n",
       "      <th></th>\n",
       "      <th></th>\n",
       "      <th></th>\n",
       "      <th></th>\n",
       "      <th></th>\n",
       "      <th></th>\n",
       "      <th></th>\n",
       "      <th></th>\n",
       "      <th></th>\n",
       "      <th></th>\n",
       "      <th></th>\n",
       "      <th></th>\n",
       "      <th></th>\n",
       "      <th></th>\n",
       "      <th></th>\n",
       "      <th></th>\n",
       "      <th></th>\n",
       "      <th></th>\n",
       "      <th></th>\n",
       "    </tr>\n",
       "  </thead>\n",
       "  <tbody>\n",
       "    <tr>\n",
       "      <th rowspan=\"5\" valign=\"top\">female</th>\n",
       "      <th>0.17</th>\n",
       "      <td>1.0</td>\n",
       "      <td>1246.000000</td>\n",
       "      <td>NaN</td>\n",
       "      <td>1246.0</td>\n",
       "      <td>1246.00</td>\n",
       "      <td>1246.0</td>\n",
       "      <td>1246.00</td>\n",
       "      <td>1246.0</td>\n",
       "      <td>1.0</td>\n",
       "      <td>1.000000</td>\n",
       "      <td>...</td>\n",
       "      <td>2.00</td>\n",
       "      <td>2.0</td>\n",
       "      <td>1.0</td>\n",
       "      <td>20.575000</td>\n",
       "      <td>NaN</td>\n",
       "      <td>20.5750</td>\n",
       "      <td>20.5750</td>\n",
       "      <td>20.5750</td>\n",
       "      <td>20.5750</td>\n",
       "      <td>20.5750</td>\n",
       "    </tr>\n",
       "    <tr>\n",
       "      <th>0.75</th>\n",
       "      <td>2.0</td>\n",
       "      <td>557.500000</td>\n",
       "      <td>123.743687</td>\n",
       "      <td>470.0</td>\n",
       "      <td>513.75</td>\n",
       "      <td>557.5</td>\n",
       "      <td>601.25</td>\n",
       "      <td>645.0</td>\n",
       "      <td>2.0</td>\n",
       "      <td>1.000000</td>\n",
       "      <td>...</td>\n",
       "      <td>1.00</td>\n",
       "      <td>1.0</td>\n",
       "      <td>2.0</td>\n",
       "      <td>19.258300</td>\n",
       "      <td>0.000000</td>\n",
       "      <td>19.2583</td>\n",
       "      <td>19.2583</td>\n",
       "      <td>19.2583</td>\n",
       "      <td>19.2583</td>\n",
       "      <td>19.2583</td>\n",
       "    </tr>\n",
       "    <tr>\n",
       "      <th>0.92</th>\n",
       "      <td>1.0</td>\n",
       "      <td>1142.000000</td>\n",
       "      <td>NaN</td>\n",
       "      <td>1142.0</td>\n",
       "      <td>1142.00</td>\n",
       "      <td>1142.0</td>\n",
       "      <td>1142.00</td>\n",
       "      <td>1142.0</td>\n",
       "      <td>1.0</td>\n",
       "      <td>1.000000</td>\n",
       "      <td>...</td>\n",
       "      <td>2.00</td>\n",
       "      <td>2.0</td>\n",
       "      <td>1.0</td>\n",
       "      <td>27.750000</td>\n",
       "      <td>NaN</td>\n",
       "      <td>27.7500</td>\n",
       "      <td>27.7500</td>\n",
       "      <td>27.7500</td>\n",
       "      <td>27.7500</td>\n",
       "      <td>27.7500</td>\n",
       "    </tr>\n",
       "    <tr>\n",
       "      <th>1.00</th>\n",
       "      <td>5.0</td>\n",
       "      <td>781.400000</td>\n",
       "      <td>470.736975</td>\n",
       "      <td>173.0</td>\n",
       "      <td>382.00</td>\n",
       "      <td>1009.0</td>\n",
       "      <td>1155.00</td>\n",
       "      <td>1188.0</td>\n",
       "      <td>5.0</td>\n",
       "      <td>1.000000</td>\n",
       "      <td>...</td>\n",
       "      <td>2.00</td>\n",
       "      <td>2.0</td>\n",
       "      <td>5.0</td>\n",
       "      <td>19.467500</td>\n",
       "      <td>12.579610</td>\n",
       "      <td>11.1333</td>\n",
       "      <td>12.1833</td>\n",
       "      <td>15.7417</td>\n",
       "      <td>16.7000</td>\n",
       "      <td>41.5792</td>\n",
       "    </tr>\n",
       "    <tr>\n",
       "      <th>2.00</th>\n",
       "      <td>7.0</td>\n",
       "      <td>493.428571</td>\n",
       "      <td>353.582549</td>\n",
       "      <td>120.0</td>\n",
       "      <td>252.00</td>\n",
       "      <td>480.0</td>\n",
       "      <td>587.00</td>\n",
       "      <td>1176.0</td>\n",
       "      <td>7.0</td>\n",
       "      <td>0.428571</td>\n",
       "      <td>...</td>\n",
       "      <td>2.00</td>\n",
       "      <td>2.0</td>\n",
       "      <td>7.0</td>\n",
       "      <td>39.955357</td>\n",
       "      <td>49.822879</td>\n",
       "      <td>10.4625</td>\n",
       "      <td>16.2500</td>\n",
       "      <td>26.0000</td>\n",
       "      <td>29.5875</td>\n",
       "      <td>151.5500</td>\n",
       "    </tr>\n",
       "    <tr>\n",
       "      <th>...</th>\n",
       "      <th>...</th>\n",
       "      <td>...</td>\n",
       "      <td>...</td>\n",
       "      <td>...</td>\n",
       "      <td>...</td>\n",
       "      <td>...</td>\n",
       "      <td>...</td>\n",
       "      <td>...</td>\n",
       "      <td>...</td>\n",
       "      <td>...</td>\n",
       "      <td>...</td>\n",
       "      <td>...</td>\n",
       "      <td>...</td>\n",
       "      <td>...</td>\n",
       "      <td>...</td>\n",
       "      <td>...</td>\n",
       "      <td>...</td>\n",
       "      <td>...</td>\n",
       "      <td>...</td>\n",
       "      <td>...</td>\n",
       "      <td>...</td>\n",
       "      <td>...</td>\n",
       "    </tr>\n",
       "    <tr>\n",
       "      <th rowspan=\"5\" valign=\"top\">male</th>\n",
       "      <th>70.00</th>\n",
       "      <td>2.0</td>\n",
       "      <td>709.500000</td>\n",
       "      <td>51.618795</td>\n",
       "      <td>673.0</td>\n",
       "      <td>691.25</td>\n",
       "      <td>709.5</td>\n",
       "      <td>727.75</td>\n",
       "      <td>746.0</td>\n",
       "      <td>2.0</td>\n",
       "      <td>0.000000</td>\n",
       "      <td>...</td>\n",
       "      <td>0.75</td>\n",
       "      <td>1.0</td>\n",
       "      <td>2.0</td>\n",
       "      <td>40.750000</td>\n",
       "      <td>42.779960</td>\n",
       "      <td>10.5000</td>\n",
       "      <td>25.6250</td>\n",
       "      <td>40.7500</td>\n",
       "      <td>55.8750</td>\n",
       "      <td>71.0000</td>\n",
       "    </tr>\n",
       "    <tr>\n",
       "      <th>70.50</th>\n",
       "      <td>1.0</td>\n",
       "      <td>117.000000</td>\n",
       "      <td>NaN</td>\n",
       "      <td>117.0</td>\n",
       "      <td>117.00</td>\n",
       "      <td>117.0</td>\n",
       "      <td>117.00</td>\n",
       "      <td>117.0</td>\n",
       "      <td>1.0</td>\n",
       "      <td>0.000000</td>\n",
       "      <td>...</td>\n",
       "      <td>0.00</td>\n",
       "      <td>0.0</td>\n",
       "      <td>1.0</td>\n",
       "      <td>7.750000</td>\n",
       "      <td>NaN</td>\n",
       "      <td>7.7500</td>\n",
       "      <td>7.7500</td>\n",
       "      <td>7.7500</td>\n",
       "      <td>7.7500</td>\n",
       "      <td>7.7500</td>\n",
       "    </tr>\n",
       "    <tr>\n",
       "      <th>71.00</th>\n",
       "      <td>2.0</td>\n",
       "      <td>295.500000</td>\n",
       "      <td>280.721392</td>\n",
       "      <td>97.0</td>\n",
       "      <td>196.25</td>\n",
       "      <td>295.5</td>\n",
       "      <td>394.75</td>\n",
       "      <td>494.0</td>\n",
       "      <td>2.0</td>\n",
       "      <td>0.000000</td>\n",
       "      <td>...</td>\n",
       "      <td>0.00</td>\n",
       "      <td>0.0</td>\n",
       "      <td>2.0</td>\n",
       "      <td>42.079200</td>\n",
       "      <td>10.500536</td>\n",
       "      <td>34.6542</td>\n",
       "      <td>38.3667</td>\n",
       "      <td>42.0792</td>\n",
       "      <td>45.7917</td>\n",
       "      <td>49.5042</td>\n",
       "    </tr>\n",
       "    <tr>\n",
       "      <th>74.00</th>\n",
       "      <td>1.0</td>\n",
       "      <td>852.000000</td>\n",
       "      <td>NaN</td>\n",
       "      <td>852.0</td>\n",
       "      <td>852.00</td>\n",
       "      <td>852.0</td>\n",
       "      <td>852.00</td>\n",
       "      <td>852.0</td>\n",
       "      <td>1.0</td>\n",
       "      <td>0.000000</td>\n",
       "      <td>...</td>\n",
       "      <td>0.00</td>\n",
       "      <td>0.0</td>\n",
       "      <td>1.0</td>\n",
       "      <td>7.775000</td>\n",
       "      <td>NaN</td>\n",
       "      <td>7.7750</td>\n",
       "      <td>7.7750</td>\n",
       "      <td>7.7750</td>\n",
       "      <td>7.7750</td>\n",
       "      <td>7.7750</td>\n",
       "    </tr>\n",
       "    <tr>\n",
       "      <th>80.00</th>\n",
       "      <td>1.0</td>\n",
       "      <td>631.000000</td>\n",
       "      <td>NaN</td>\n",
       "      <td>631.0</td>\n",
       "      <td>631.00</td>\n",
       "      <td>631.0</td>\n",
       "      <td>631.00</td>\n",
       "      <td>631.0</td>\n",
       "      <td>1.0</td>\n",
       "      <td>1.000000</td>\n",
       "      <td>...</td>\n",
       "      <td>0.00</td>\n",
       "      <td>0.0</td>\n",
       "      <td>1.0</td>\n",
       "      <td>30.000000</td>\n",
       "      <td>NaN</td>\n",
       "      <td>30.0000</td>\n",
       "      <td>30.0000</td>\n",
       "      <td>30.0000</td>\n",
       "      <td>30.0000</td>\n",
       "      <td>30.0000</td>\n",
       "    </tr>\n",
       "  </tbody>\n",
       "</table>\n",
       "<p>166 rows × 48 columns</p>\n",
       "</div>"
      ],
      "text/plain": [
       "             PassengerId                                                    \\\n",
       "                   count         mean         std     min      25%     50%   \n",
       "Sex    Age                                                                   \n",
       "female 0.17          1.0  1246.000000         NaN  1246.0  1246.00  1246.0   \n",
       "       0.75          2.0   557.500000  123.743687   470.0   513.75   557.5   \n",
       "       0.92          1.0  1142.000000         NaN  1142.0  1142.00  1142.0   \n",
       "       1.00          5.0   781.400000  470.736975   173.0   382.00  1009.0   \n",
       "       2.00          7.0   493.428571  353.582549   120.0   252.00   480.0   \n",
       "...                  ...          ...         ...     ...      ...     ...   \n",
       "male   70.00         2.0   709.500000   51.618795   673.0   691.25   709.5   \n",
       "       70.50         1.0   117.000000         NaN   117.0   117.00   117.0   \n",
       "       71.00         2.0   295.500000  280.721392    97.0   196.25   295.5   \n",
       "       74.00         1.0   852.000000         NaN   852.0   852.00   852.0   \n",
       "       80.00         1.0   631.000000         NaN   631.0   631.00   631.0   \n",
       "\n",
       "                              Survived            ... Parch       Fare  \\\n",
       "                  75%     max    count      mean  ...   75%  max count   \n",
       "Sex    Age                                        ...                    \n",
       "female 0.17   1246.00  1246.0      1.0  1.000000  ...  2.00  2.0   1.0   \n",
       "       0.75    601.25   645.0      2.0  1.000000  ...  1.00  1.0   2.0   \n",
       "       0.92   1142.00  1142.0      1.0  1.000000  ...  2.00  2.0   1.0   \n",
       "       1.00   1155.00  1188.0      5.0  1.000000  ...  2.00  2.0   5.0   \n",
       "       2.00    587.00  1176.0      7.0  0.428571  ...  2.00  2.0   7.0   \n",
       "...               ...     ...      ...       ...  ...   ...  ...   ...   \n",
       "male   70.00   727.75   746.0      2.0  0.000000  ...  0.75  1.0   2.0   \n",
       "       70.50   117.00   117.0      1.0  0.000000  ...  0.00  0.0   1.0   \n",
       "       71.00   394.75   494.0      2.0  0.000000  ...  0.00  0.0   2.0   \n",
       "       74.00   852.00   852.0      1.0  0.000000  ...  0.00  0.0   1.0   \n",
       "       80.00   631.00   631.0      1.0  1.000000  ...  0.00  0.0   1.0   \n",
       "\n",
       "                                                                        \\\n",
       "                   mean        std      min      25%      50%      75%   \n",
       "Sex    Age                                                               \n",
       "female 0.17   20.575000        NaN  20.5750  20.5750  20.5750  20.5750   \n",
       "       0.75   19.258300   0.000000  19.2583  19.2583  19.2583  19.2583   \n",
       "       0.92   27.750000        NaN  27.7500  27.7500  27.7500  27.7500   \n",
       "       1.00   19.467500  12.579610  11.1333  12.1833  15.7417  16.7000   \n",
       "       2.00   39.955357  49.822879  10.4625  16.2500  26.0000  29.5875   \n",
       "...                 ...        ...      ...      ...      ...      ...   \n",
       "male   70.00  40.750000  42.779960  10.5000  25.6250  40.7500  55.8750   \n",
       "       70.50   7.750000        NaN   7.7500   7.7500   7.7500   7.7500   \n",
       "       71.00  42.079200  10.500536  34.6542  38.3667  42.0792  45.7917   \n",
       "       74.00   7.775000        NaN   7.7750   7.7750   7.7750   7.7750   \n",
       "       80.00  30.000000        NaN  30.0000  30.0000  30.0000  30.0000   \n",
       "\n",
       "                        \n",
       "                   max  \n",
       "Sex    Age              \n",
       "female 0.17    20.5750  \n",
       "       0.75    19.2583  \n",
       "       0.92    27.7500  \n",
       "       1.00    41.5792  \n",
       "       2.00   151.5500  \n",
       "...                ...  \n",
       "male   70.00   71.0000  \n",
       "       70.50    7.7500  \n",
       "       71.00   49.5042  \n",
       "       74.00    7.7750  \n",
       "       80.00   30.0000  \n",
       "\n",
       "[166 rows x 48 columns]"
      ]
     },
     "execution_count": 58,
     "metadata": {},
     "output_type": "execute_result"
    }
   ],
   "source": [
    "titanic.groupby([\"Sex\",\"Age\"]).describe()"
   ]
  },
  {
   "cell_type": "markdown",
   "id": "former-novelty",
   "metadata": {},
   "source": [
    "# Select data using condition"
   ]
  },
  {
   "cell_type": "code",
   "execution_count": 59,
   "id": "august-version",
   "metadata": {
    "scrolled": true
   },
   "outputs": [
    {
     "data": {
      "text/html": [
       "<div>\n",
       "<style scoped>\n",
       "    .dataframe tbody tr th:only-of-type {\n",
       "        vertical-align: middle;\n",
       "    }\n",
       "\n",
       "    .dataframe tbody tr th {\n",
       "        vertical-align: top;\n",
       "    }\n",
       "\n",
       "    .dataframe thead th {\n",
       "        text-align: right;\n",
       "    }\n",
       "</style>\n",
       "<table border=\"1\" class=\"dataframe\">\n",
       "  <thead>\n",
       "    <tr style=\"text-align: right;\">\n",
       "      <th></th>\n",
       "      <th>PassengerId</th>\n",
       "      <th>Survived</th>\n",
       "      <th>Pclass</th>\n",
       "      <th>Name</th>\n",
       "      <th>Sex</th>\n",
       "      <th>Age</th>\n",
       "      <th>SibSp</th>\n",
       "      <th>Parch</th>\n",
       "      <th>Ticket</th>\n",
       "      <th>Fare</th>\n",
       "      <th>Cabin</th>\n",
       "      <th>Embarked</th>\n",
       "    </tr>\n",
       "  </thead>\n",
       "  <tbody>\n",
       "    <tr>\n",
       "      <th>679</th>\n",
       "      <td>680</td>\n",
       "      <td>1</td>\n",
       "      <td>1</td>\n",
       "      <td>Cardeza, Mr. Thomas Drake Martinez</td>\n",
       "      <td>male</td>\n",
       "      <td>36.0</td>\n",
       "      <td>0</td>\n",
       "      <td>1</td>\n",
       "      <td>PC 17755</td>\n",
       "      <td>512.3292</td>\n",
       "      <td>B51 B53 B55</td>\n",
       "      <td>C</td>\n",
       "    </tr>\n",
       "    <tr>\n",
       "      <th>737</th>\n",
       "      <td>738</td>\n",
       "      <td>1</td>\n",
       "      <td>1</td>\n",
       "      <td>Lesurer, Mr. Gustave J</td>\n",
       "      <td>male</td>\n",
       "      <td>35.0</td>\n",
       "      <td>0</td>\n",
       "      <td>0</td>\n",
       "      <td>PC 17755</td>\n",
       "      <td>512.3292</td>\n",
       "      <td>B101</td>\n",
       "      <td>C</td>\n",
       "    </tr>\n",
       "  </tbody>\n",
       "</table>\n",
       "</div>"
      ],
      "text/plain": [
       "     PassengerId  Survived  Pclass                                Name   Sex  \\\n",
       "679          680         1       1  Cardeza, Mr. Thomas Drake Martinez  male   \n",
       "737          738         1       1              Lesurer, Mr. Gustave J  male   \n",
       "\n",
       "      Age  SibSp  Parch    Ticket      Fare        Cabin Embarked  \n",
       "679  36.0      0      1  PC 17755  512.3292  B51 B53 B55        C  \n",
       "737  35.0      0      0  PC 17755  512.3292         B101        C  "
      ]
     },
     "execution_count": 59,
     "metadata": {},
     "output_type": "execute_result"
    }
   ],
   "source": [
    "titanic[(titanic[\"Fare\"] > 400) & (titanic[\"Sex\"] == \"male\")]"
   ]
  },
  {
   "cell_type": "markdown",
   "id": "floral-latvia",
   "metadata": {},
   "source": [
    "## Counting the values"
   ]
  },
  {
   "cell_type": "code",
   "execution_count": 60,
   "id": "colored-cocktail",
   "metadata": {
    "scrolled": true
   },
   "outputs": [
    {
     "data": {
      "text/plain": [
       "2"
      ]
     },
     "execution_count": 60,
     "metadata": {},
     "output_type": "execute_result"
    }
   ],
   "source": [
    "titanic[(titanic[\"Fare\"] > 400) & (titanic[\"Sex\"] == \"male\")].value_counts().sum()"
   ]
  },
  {
   "cell_type": "markdown",
   "id": "absent-hydrogen",
   "metadata": {},
   "source": [
    "# Check Values in column without duplicate "
   ]
  },
  {
   "cell_type": "code",
   "execution_count": 61,
   "id": "several-tradition",
   "metadata": {},
   "outputs": [
    {
     "data": {
      "text/plain": [
       "male      843\n",
       "female    466\n",
       "Name: Sex, dtype: int64"
      ]
     },
     "execution_count": 61,
     "metadata": {},
     "output_type": "execute_result"
    }
   ],
   "source": [
    "titanic[\"Sex\"].value_counts()"
   ]
  },
  {
   "cell_type": "code",
   "execution_count": 62,
   "id": "eleven-vector",
   "metadata": {},
   "outputs": [
    {
     "name": "stdout",
     "output_type": "stream",
     "text": [
      "C23 C25 C27        6\n",
      "B57 B59 B63 B66    5\n",
      "G6                 5\n",
      "F4                 4\n",
      "B96 B98            4\n",
      "                  ..\n",
      "E68                1\n",
      "E45                1\n",
      "A5                 1\n",
      "B19                1\n",
      "B38                1\n",
      "Name: Cabin, Length: 186, dtype: int64\n",
      "Total values 295\n"
     ]
    }
   ],
   "source": [
    "uv = titanic[\"Cabin\"].value_counts() # Decribe 186 unique values\n",
    "tv = titanic[\"Cabin\"].value_counts().sum() \n",
    "\n",
    "print(uv)\n",
    "print( f\"Total values {tv}\")"
   ]
  },
  {
   "cell_type": "markdown",
   "id": "distinct-service",
   "metadata": {},
   "source": [
    "# Spliting String"
   ]
  },
  {
   "cell_type": "code",
   "execution_count": 63,
   "id": "proud-resident",
   "metadata": {},
   "outputs": [],
   "source": [
    "for dataset in titanic:\n",
    "    titanic['Title'] = titanic['Name'].str.extract('([A-Za-z]+)\\.', expand=False)"
   ]
  },
  {
   "cell_type": "code",
   "execution_count": 64,
   "id": "conservative-sussex",
   "metadata": {
    "scrolled": true
   },
   "outputs": [
    {
     "data": {
      "text/plain": [
       "Mr          757\n",
       "Miss        260\n",
       "Mrs         197\n",
       "Master       61\n",
       "Dr            8\n",
       "Rev           8\n",
       "Col           4\n",
       "Major         2\n",
       "Ms            2\n",
       "Mlle          2\n",
       "Lady          1\n",
       "Dona          1\n",
       "Countess      1\n",
       "Sir           1\n",
       "Mme           1\n",
       "Jonkheer      1\n",
       "Capt          1\n",
       "Don           1\n",
       "Name: Title, dtype: int64"
      ]
     },
     "execution_count": 64,
     "metadata": {},
     "output_type": "execute_result"
    }
   ],
   "source": [
    "titanic[\"Title\"].value_counts()"
   ]
  },
  {
   "cell_type": "code",
   "execution_count": 65,
   "id": "fluid-grill",
   "metadata": {},
   "outputs": [],
   "source": [
    "# x = titanic[\"Title\"]\n",
    "# for i in range(len(x)):\n",
    "#     print(x.index[i])"
   ]
  },
  {
   "cell_type": "code",
   "execution_count": 66,
   "id": "curious-diving",
   "metadata": {},
   "outputs": [
    {
     "data": {
      "text/plain": [
       "Index(['PassengerId', 'Survived', 'Pclass', 'Name', 'Sex', 'Age', 'SibSp',\n",
       "       'Parch', 'Ticket', 'Fare', 'Cabin', 'Embarked', 'Title'],\n",
       "      dtype='object')"
      ]
     },
     "execution_count": 66,
     "metadata": {},
     "output_type": "execute_result"
    }
   ],
   "source": [
    "titanic.columns"
   ]
  },
  {
   "cell_type": "markdown",
   "id": "revolutionary-oakland",
   "metadata": {},
   "source": [
    "# Visual representation"
   ]
  },
  {
   "cell_type": "code",
   "execution_count": 67,
   "id": "blessed-hearts",
   "metadata": {},
   "outputs": [],
   "source": [
    "titanic[\"FamilyMembers\"] = titanic[\"SibSp\"] + titanic[\"Parch\"]"
   ]
  },
  {
   "cell_type": "code",
   "execution_count": 68,
   "id": "annoying-plane",
   "metadata": {},
   "outputs": [
    {
     "data": {
      "text/plain": [
       "0     790\n",
       "1     235\n",
       "2     159\n",
       "3      43\n",
       "5      25\n",
       "4      22\n",
       "6      16\n",
       "10     11\n",
       "7       8\n",
       "Name: FamilyMembers, dtype: int64"
      ]
     },
     "execution_count": 68,
     "metadata": {},
     "output_type": "execute_result"
    }
   ],
   "source": [
    "titanic[\"FamilyMembers\"].value_counts()"
   ]
  },
  {
   "cell_type": "code",
   "execution_count": 69,
   "id": "technological-onion",
   "metadata": {},
   "outputs": [],
   "source": [
    "def bar_chart(feature):\n",
    "    survived = titanic[titanic['Survived']==1][feature].value_counts()\n",
    "    dead = titanic[titanic['Survived']==0][feature].value_counts()\n",
    "    df = pd.DataFrame([survived,dead])\n",
    "    df.index = ['Survived','Dead']\n",
    "    df.plot(kind='bar', stacked=True,  figsize=(10,5))\n",
    "    plt.title(feature)"
   ]
  },
  {
   "cell_type": "code",
   "execution_count": 70,
   "id": "competitive-marina",
   "metadata": {},
   "outputs": [
    {
     "data": {
      "image/png": "[encoded data removed]",
      "text/plain": [
       "<Figure size 720x360 with 1 Axes>"
      ]
     },
     "metadata": {
      "needs_background": "light"
     },
     "output_type": "display_data"
    },
    {
     "data": {
      "image/png": "[encoded data removed]",
      "text/plain": [
       "<Figure size 720x360 with 1 Axes>"
      ]
     },
     "metadata": {
      "needs_background": "light"
     },
     "output_type": "display_data"
    }
   ],
   "source": [
    "# bar_chart('Pclass')\n",
    "# bar_chart('Sex')\n",
    "bar_chart('SibSp')\n",
    "bar_chart('Parch')\n",
    "# # bar_chart('Ticket')\n",
    "# # bar_chart('Fare')\n",
    "# # bar_chart('Cabin')\n",
    "# bar_chart('Embarked')\n",
    "# bar_chart('Title')\n",
    "# bar_chart('FamilyMembers')"
   ]
  },
  {
   "cell_type": "markdown",
   "id": "static-fundamental",
   "metadata": {},
   "source": [
    "# Title Mapping"
   ]
  },
  {
   "cell_type": "code",
   "execution_count": 71,
   "id": "announced-uruguay",
   "metadata": {},
   "outputs": [],
   "source": [
    "title_mapping = {\"Mr\": 0, \"Miss\": 1,\"Ms\": 1, \"Lady\": 2, \"Mrs\": 2,\"Mme\": 2, \n",
    "                 \"Master\": 3, \"Dr\": 4, \"Rev\": 4, \"Col\": 4, \"Major\": 4, \"Mlle\": 4,\"Countess\": 4,\n",
    "                \"Jonkheer\": 4, \"Don\": 4, \"Dona\" : 4, \"Capt\": 4,\"Sir\": 4 }\n",
    "for dataset in titanic[\"Title\"]:\n",
    "    titanic[\"TitleEncode\"] = titanic['Title'].map(title_mapping)\n",
    "#     print(dataset)"
   ]
  },
  {
   "cell_type": "code",
   "execution_count": 72,
   "id": "indie-indian",
   "metadata": {
    "scrolled": true
   },
   "outputs": [
    {
     "data": {
      "text/plain": [
       "0    757\n",
       "1    262\n",
       "2    199\n",
       "3     61\n",
       "4     30\n",
       "Name: TitleEncode, dtype: int64"
      ]
     },
     "execution_count": 72,
     "metadata": {},
     "output_type": "execute_result"
    }
   ],
   "source": [
    "titanic[\"TitleEncode\"].value_counts()"
   ]
  },
  {
   "cell_type": "code",
   "execution_count": 73,
   "id": "commercial-progress",
   "metadata": {},
   "outputs": [
    {
     "data": {
      "text/plain": [
       "(1309, 15)"
      ]
     },
     "execution_count": 73,
     "metadata": {},
     "output_type": "execute_result"
    }
   ],
   "source": [
    "titanic.shape"
   ]
  },
  {
   "cell_type": "code",
   "execution_count": 74,
   "id": "collaborative-oxford",
   "metadata": {},
   "outputs": [],
   "source": [
    "titanic = titanic.drop([\"Title\", \"Name\"], axis=1)"
   ]
  },
  {
   "cell_type": "code",
   "execution_count": 75,
   "id": "isolated-portland",
   "metadata": {},
   "outputs": [
    {
     "data": {
      "text/plain": [
       "(1309, 13)"
      ]
     },
     "execution_count": 75,
     "metadata": {},
     "output_type": "execute_result"
    }
   ],
   "source": [
    "titanic.shape"
   ]
  },
  {
   "cell_type": "code",
   "execution_count": 76,
   "id": "postal-reverse",
   "metadata": {},
   "outputs": [
    {
     "data": {
      "text/plain": [
       "Index(['PassengerId', 'Survived', 'Pclass', 'Sex', 'Age', 'SibSp', 'Parch',\n",
       "       'Ticket', 'Fare', 'Cabin', 'Embarked', 'FamilyMembers', 'TitleEncode'],\n",
       "      dtype='object')"
      ]
     },
     "execution_count": 76,
     "metadata": {},
     "output_type": "execute_result"
    }
   ],
   "source": [
    "titanic.columns"
   ]
  },
  {
   "cell_type": "code",
   "execution_count": 77,
   "id": "absent-dairy",
   "metadata": {},
   "outputs": [],
   "source": [
    "titanic[\"Title\"] = titanic[\"TitleEncode\"]"
   ]
  },
  {
   "cell_type": "code",
   "execution_count": 78,
   "id": "conventional-default",
   "metadata": {},
   "outputs": [
    {
     "data": {
      "text/plain": [
       "0    757\n",
       "1    262\n",
       "2    199\n",
       "3     61\n",
       "4     30\n",
       "Name: Title, dtype: int64"
      ]
     },
     "execution_count": 78,
     "metadata": {},
     "output_type": "execute_result"
    }
   ],
   "source": [
    "titanic[\"Title\"].value_counts()"
   ]
  },
  {
   "cell_type": "code",
   "execution_count": 79,
   "id": "rocky-discrimination",
   "metadata": {},
   "outputs": [
    {
     "data": {
      "text/plain": [
       "PassengerId         0\n",
       "Survived            0\n",
       "Pclass              0\n",
       "Sex                 0\n",
       "Age               263\n",
       "SibSp               0\n",
       "Parch               0\n",
       "Ticket              0\n",
       "Fare                1\n",
       "Cabin            1014\n",
       "Embarked            2\n",
       "FamilyMembers       0\n",
       "TitleEncode         0\n",
       "Title               0\n",
       "dtype: int64"
      ]
     },
     "execution_count": 79,
     "metadata": {},
     "output_type": "execute_result"
    }
   ],
   "source": [
    "titanic.isnull().sum()"
   ]
  },
  {
   "cell_type": "code",
   "execution_count": 80,
   "id": "macro-citizenship",
   "metadata": {},
   "outputs": [],
   "source": [
    "# titanic = titanic.drop([\"Parch\", \"SibSp\", \"Cabin\",\"TitleEncode\", \"PassengerId\",\"Survived\"], axis=1)"
   ]
  },
  {
   "cell_type": "code",
   "execution_count": 81,
   "id": "green-ministry",
   "metadata": {},
   "outputs": [
    {
     "data": {
      "text/plain": [
       "count    1308.000000\n",
       "mean       33.295479\n",
       "std        51.758668\n",
       "min         0.000000\n",
       "25%         7.895800\n",
       "50%        14.454200\n",
       "75%        31.275000\n",
       "max       512.329200\n",
       "Name: Fare, dtype: float64"
      ]
     },
     "execution_count": 81,
     "metadata": {},
     "output_type": "execute_result"
    }
   ],
   "source": [
    "titanic[\"Fare\"].describe()"
   ]
  },
  {
   "cell_type": "code",
   "execution_count": 82,
   "id": "premier-sierra",
   "metadata": {},
   "outputs": [],
   "source": [
    "titanic[\"Embarked\"].fillna((titanic[\"Embarked\"].mode()), inplace=True )"
   ]
  },
  {
   "cell_type": "code",
   "execution_count": 83,
   "id": "wireless-animation",
   "metadata": {
    "scrolled": true
   },
   "outputs": [
    {
     "data": {
      "text/plain": [
       "0    S\n",
       "dtype: object"
      ]
     },
     "execution_count": 83,
     "metadata": {},
     "output_type": "execute_result"
    }
   ],
   "source": [
    "titanic[\"Embarked\"].mode()"
   ]
  },
  {
   "cell_type": "code",
   "execution_count": 84,
   "id": "black-affairs",
   "metadata": {
    "scrolled": true
   },
   "outputs": [
    {
     "data": {
      "text/plain": [
       "PassengerId         0\n",
       "Survived            0\n",
       "Pclass              0\n",
       "Sex                 0\n",
       "Age               263\n",
       "SibSp               0\n",
       "Parch               0\n",
       "Ticket              0\n",
       "Fare                1\n",
       "Cabin            1014\n",
       "Embarked            2\n",
       "FamilyMembers       0\n",
       "TitleEncode         0\n",
       "Title               0\n",
       "dtype: int64"
      ]
     },
     "execution_count": 84,
     "metadata": {},
     "output_type": "execute_result"
    }
   ],
   "source": [
    "titanic.isnull().sum()"
   ]
  },
  {
   "cell_type": "code",
   "execution_count": 87,
   "id": "czech-progress",
   "metadata": {},
   "outputs": [
    {
     "data": {
      "text/plain": [
       "S    914\n",
       "C    270\n",
       "Q    123\n",
       "Name: Embarked, dtype: int64"
      ]
     },
     "execution_count": 87,
     "metadata": {},
     "output_type": "execute_result"
    }
   ],
   "source": [
    "titanic[\"Embarked\"].value_counts()"
   ]
  },
  {
   "cell_type": "code",
   "execution_count": null,
   "id": "arctic-right",
   "metadata": {},
   "outputs": [],
   "source": []
  }
 ],
 "metadata": {
  "kernelspec": {
   "display_name": "Python 3",
   "language": "python",
   "name": "python3"
  },
  "language_info": {
   "codemirror_mode": {
    "name": "ipython",
    "version": 3
   },
   "file_extension": ".py",
   "mimetype": "text/x-python",
   "name": "python",
   "nbconvert_exporter": "python",
   "pygments_lexer": "ipython3",
   "version": "3.8.5"
  },
  "toc": {
   "base_numbering": 1,
   "nav_menu": {},
   "number_sections": true,
   "sideBar": true,
   "skip_h1_title": false,
   "title_cell": "Table of Contents",
   "title_sidebar": "Contents",
   "toc_cell": false,
   "toc_position": {},
   "toc_section_display": true,
   "toc_window_display": false
  }
 },
 "nbformat": 4,
 "nbformat_minor": 5
}
